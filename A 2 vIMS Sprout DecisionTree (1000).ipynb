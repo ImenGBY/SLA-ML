{
 "cells": [
  {
   "cell_type": "markdown",
   "metadata": {},
   "source": [
    "# Decison Trees"
   ]
  },
  {
   "cell_type": "markdown",
   "metadata": {},
   "source": [
    "First we'll load some fake data on past hires I made up. Note how we use pandas to convert a csv file into a DataFrame:"
   ]
  },
  {
   "cell_type": "markdown",
   "metadata": {},
   "source": [
    "### Pretreatement"
   ]
  },
  {
   "cell_type": "code",
   "execution_count": 2,
   "metadata": {},
   "outputs": [],
   "source": [
    "import numpy as np\n",
    "import pandas as pd"
   ]
  },
  {
   "cell_type": "code",
   "execution_count": 5,
   "metadata": {},
   "outputs": [],
   "source": [
    "input_file = \"/home/imen/Forecasting-ANN/Data/Sprout.csv\"\n",
    "df_Sprout = pd.read_csv(input_file, header = 0,sep=\";\")"
   ]
  },
  {
   "cell_type": "code",
   "execution_count": 6,
   "metadata": {},
   "outputs": [
    {
     "name": "stdout",
     "output_type": "stream",
     "text": [
      "Column names are:  ['Timestamp', 'load_avg_1_min', 'cpu_wait_perc', 'net_out_packets_sec', 'cpu_system_perc', 'net_in_bytes_sec', 'mem_free_mb']\n"
     ]
    }
   ],
   "source": [
    "df_Sprout.shape\n",
    "print('Column names are: ',list(df_Sprout.columns))"
   ]
  },
  {
   "cell_type": "code",
   "execution_count": 10,
   "metadata": {},
   "outputs": [
    {
     "data": {
      "text/plain": [
       "(10000, 7)"
      ]
     },
     "execution_count": 10,
     "metadata": {},
     "output_type": "execute_result"
    }
   ],
   "source": [
    "df_Sprout.shape"
   ]
  },
  {
   "cell_type": "code",
   "execution_count": 11,
   "metadata": {},
   "outputs": [],
   "source": [
    "df_Sprout['SLO1'] = 0\n",
    "df_Sprout['SLO2'] = 0\n",
    "df_Sprout['SLO3'] = 0"
   ]
  },
  {
   "cell_type": "code",
   "execution_count": 13,
   "metadata": {},
   "outputs": [
    {
     "data": {
      "text/html": [
       "<div>\n",
       "<style scoped>\n",
       "    .dataframe tbody tr th:only-of-type {\n",
       "        vertical-align: middle;\n",
       "    }\n",
       "\n",
       "    .dataframe tbody tr th {\n",
       "        vertical-align: top;\n",
       "    }\n",
       "\n",
       "    .dataframe thead th {\n",
       "        text-align: right;\n",
       "    }\n",
       "</style>\n",
       "<table border=\"1\" class=\"dataframe\">\n",
       "  <thead>\n",
       "    <tr style=\"text-align: right;\">\n",
       "      <th></th>\n",
       "      <th>Timestamp</th>\n",
       "      <th>load_avg_1_min</th>\n",
       "      <th>cpu_wait_perc</th>\n",
       "      <th>net_out_packets_sec</th>\n",
       "      <th>cpu_system_perc</th>\n",
       "      <th>net_in_bytes_sec</th>\n",
       "      <th>mem_free_mb</th>\n",
       "      <th>SLO1</th>\n",
       "      <th>SLO2</th>\n",
       "      <th>SLO3</th>\n",
       "    </tr>\n",
       "  </thead>\n",
       "  <tbody>\n",
       "    <tr>\n",
       "      <th>0</th>\n",
       "      <td>2016-08-31T20:48:41.725Z</td>\n",
       "      <td>1.79</td>\n",
       "      <td>6.2</td>\n",
       "      <td>66.300000</td>\n",
       "      <td>12.5</td>\n",
       "      <td>5842.733333</td>\n",
       "      <td>4737.0</td>\n",
       "      <td>0</td>\n",
       "      <td>0</td>\n",
       "      <td>0</td>\n",
       "    </tr>\n",
       "    <tr>\n",
       "      <th>1</th>\n",
       "      <td>2016-08-31T20:49:11.754Z</td>\n",
       "      <td>1.95</td>\n",
       "      <td>18.6</td>\n",
       "      <td>67.800000</td>\n",
       "      <td>0.9</td>\n",
       "      <td>5732.366667</td>\n",
       "      <td>4751.0</td>\n",
       "      <td>0</td>\n",
       "      <td>0</td>\n",
       "      <td>0</td>\n",
       "    </tr>\n",
       "    <tr>\n",
       "      <th>2</th>\n",
       "      <td>2016-08-31T20:49:41.727Z</td>\n",
       "      <td>1.84</td>\n",
       "      <td>18.6</td>\n",
       "      <td>66.333333</td>\n",
       "      <td>0.9</td>\n",
       "      <td>5667.433333</td>\n",
       "      <td>4751.0</td>\n",
       "      <td>0</td>\n",
       "      <td>0</td>\n",
       "      <td>0</td>\n",
       "    </tr>\n",
       "    <tr>\n",
       "      <th>3</th>\n",
       "      <td>2016-08-31T20:50:11.751Z</td>\n",
       "      <td>1.51</td>\n",
       "      <td>18.9</td>\n",
       "      <td>68.433333</td>\n",
       "      <td>0.8</td>\n",
       "      <td>5838.766667</td>\n",
       "      <td>4751.0</td>\n",
       "      <td>0</td>\n",
       "      <td>0</td>\n",
       "      <td>0</td>\n",
       "    </tr>\n",
       "    <tr>\n",
       "      <th>4</th>\n",
       "      <td>2016-08-31T20:50:41.728Z</td>\n",
       "      <td>1.50</td>\n",
       "      <td>19.1</td>\n",
       "      <td>66.300000</td>\n",
       "      <td>0.9</td>\n",
       "      <td>5763.833333</td>\n",
       "      <td>4751.0</td>\n",
       "      <td>0</td>\n",
       "      <td>0</td>\n",
       "      <td>0</td>\n",
       "    </tr>\n",
       "  </tbody>\n",
       "</table>\n",
       "</div>"
      ],
      "text/plain": [
       "                  Timestamp  load_avg_1_min  cpu_wait_perc  \\\n",
       "0  2016-08-31T20:48:41.725Z            1.79            6.2   \n",
       "1  2016-08-31T20:49:11.754Z            1.95           18.6   \n",
       "2  2016-08-31T20:49:41.727Z            1.84           18.6   \n",
       "3  2016-08-31T20:50:11.751Z            1.51           18.9   \n",
       "4  2016-08-31T20:50:41.728Z            1.50           19.1   \n",
       "\n",
       "   net_out_packets_sec  cpu_system_perc  net_in_bytes_sec  mem_free_mb  SLO1  \\\n",
       "0            66.300000             12.5       5842.733333       4737.0     0   \n",
       "1            67.800000              0.9       5732.366667       4751.0     0   \n",
       "2            66.333333              0.9       5667.433333       4751.0     0   \n",
       "3            68.433333              0.8       5838.766667       4751.0     0   \n",
       "4            66.300000              0.9       5763.833333       4751.0     0   \n",
       "\n",
       "   SLO2  SLO3  \n",
       "0     0     0  \n",
       "1     0     0  \n",
       "2     0     0  \n",
       "3     0     0  \n",
       "4     0     0  "
      ]
     },
     "execution_count": 13,
     "metadata": {},
     "output_type": "execute_result"
    }
   ],
   "source": [
    "df_Sprout.head()"
   ]
  },
  {
   "cell_type": "code",
   "execution_count": 14,
   "metadata": {},
   "outputs": [
    {
     "data": {
      "text/html": [
       "<div>\n",
       "<style scoped>\n",
       "    .dataframe tbody tr th:only-of-type {\n",
       "        vertical-align: middle;\n",
       "    }\n",
       "\n",
       "    .dataframe tbody tr th {\n",
       "        vertical-align: top;\n",
       "    }\n",
       "\n",
       "    .dataframe thead th {\n",
       "        text-align: right;\n",
       "    }\n",
       "</style>\n",
       "<table border=\"1\" class=\"dataframe\">\n",
       "  <thead>\n",
       "    <tr style=\"text-align: right;\">\n",
       "      <th></th>\n",
       "      <th>load_avg_1_min</th>\n",
       "      <th>cpu_wait_perc</th>\n",
       "      <th>net_out_packets_sec</th>\n",
       "      <th>cpu_system_perc</th>\n",
       "      <th>net_in_bytes_sec</th>\n",
       "      <th>mem_free_mb</th>\n",
       "      <th>SLO1</th>\n",
       "      <th>SLO2</th>\n",
       "      <th>SLO3</th>\n",
       "    </tr>\n",
       "  </thead>\n",
       "  <tbody>\n",
       "    <tr>\n",
       "      <th>count</th>\n",
       "      <td>10000.000000</td>\n",
       "      <td>10000.000000</td>\n",
       "      <td>10000.000000</td>\n",
       "      <td>10000.000000</td>\n",
       "      <td>10000.000000</td>\n",
       "      <td>10000.000000</td>\n",
       "      <td>10000.0</td>\n",
       "      <td>10000.0</td>\n",
       "      <td>10000.0</td>\n",
       "    </tr>\n",
       "    <tr>\n",
       "      <th>mean</th>\n",
       "      <td>1.283178</td>\n",
       "      <td>14.492460</td>\n",
       "      <td>66.626445</td>\n",
       "      <td>0.980470</td>\n",
       "      <td>5831.235924</td>\n",
       "      <td>4469.099900</td>\n",
       "      <td>0.0</td>\n",
       "      <td>0.0</td>\n",
       "      <td>0.0</td>\n",
       "    </tr>\n",
       "    <tr>\n",
       "      <th>std</th>\n",
       "      <td>0.518581</td>\n",
       "      <td>3.791909</td>\n",
       "      <td>13.071151</td>\n",
       "      <td>0.323422</td>\n",
       "      <td>3269.622208</td>\n",
       "      <td>139.950174</td>\n",
       "      <td>0.0</td>\n",
       "      <td>0.0</td>\n",
       "      <td>0.0</td>\n",
       "    </tr>\n",
       "    <tr>\n",
       "      <th>min</th>\n",
       "      <td>0.060000</td>\n",
       "      <td>6.200000</td>\n",
       "      <td>50.800000</td>\n",
       "      <td>0.600000</td>\n",
       "      <td>4489.233333</td>\n",
       "      <td>3847.000000</td>\n",
       "      <td>0.0</td>\n",
       "      <td>0.0</td>\n",
       "      <td>0.0</td>\n",
       "    </tr>\n",
       "    <tr>\n",
       "      <th>50%</th>\n",
       "      <td>1.360000</td>\n",
       "      <td>14.600000</td>\n",
       "      <td>64.733333</td>\n",
       "      <td>0.900000</td>\n",
       "      <td>5526.016667</td>\n",
       "      <td>4491.000000</td>\n",
       "      <td>0.0</td>\n",
       "      <td>0.0</td>\n",
       "      <td>0.0</td>\n",
       "    </tr>\n",
       "    <tr>\n",
       "      <th>95%</th>\n",
       "      <td>2.000000</td>\n",
       "      <td>19.300000</td>\n",
       "      <td>72.333333</td>\n",
       "      <td>1.400000</td>\n",
       "      <td>6334.220000</td>\n",
       "      <td>4705.000000</td>\n",
       "      <td>0.0</td>\n",
       "      <td>0.0</td>\n",
       "      <td>0.0</td>\n",
       "    </tr>\n",
       "    <tr>\n",
       "      <th>max</th>\n",
       "      <td>3.260000</td>\n",
       "      <td>33.500000</td>\n",
       "      <td>166.800000</td>\n",
       "      <td>12.500000</td>\n",
       "      <td>148265.733333</td>\n",
       "      <td>4752.000000</td>\n",
       "      <td>0.0</td>\n",
       "      <td>0.0</td>\n",
       "      <td>0.0</td>\n",
       "    </tr>\n",
       "  </tbody>\n",
       "</table>\n",
       "</div>"
      ],
      "text/plain": [
       "       load_avg_1_min  cpu_wait_perc  net_out_packets_sec  cpu_system_perc  \\\n",
       "count    10000.000000   10000.000000         10000.000000     10000.000000   \n",
       "mean         1.283178      14.492460            66.626445         0.980470   \n",
       "std          0.518581       3.791909            13.071151         0.323422   \n",
       "min          0.060000       6.200000            50.800000         0.600000   \n",
       "50%          1.360000      14.600000            64.733333         0.900000   \n",
       "95%          2.000000      19.300000            72.333333         1.400000   \n",
       "max          3.260000      33.500000           166.800000        12.500000   \n",
       "\n",
       "       net_in_bytes_sec   mem_free_mb     SLO1     SLO2     SLO3  \n",
       "count      10000.000000  10000.000000  10000.0  10000.0  10000.0  \n",
       "mean        5831.235924   4469.099900      0.0      0.0      0.0  \n",
       "std         3269.622208    139.950174      0.0      0.0      0.0  \n",
       "min         4489.233333   3847.000000      0.0      0.0      0.0  \n",
       "50%         5526.016667   4491.000000      0.0      0.0      0.0  \n",
       "95%         6334.220000   4705.000000      0.0      0.0      0.0  \n",
       "max       148265.733333   4752.000000      0.0      0.0      0.0  "
      ]
     },
     "execution_count": 14,
     "metadata": {},
     "output_type": "execute_result"
    }
   ],
   "source": [
    "df_Sprout.describe(percentiles=[.95])"
   ]
  },
  {
   "cell_type": "code",
   "execution_count": 15,
   "metadata": {},
   "outputs": [
    {
     "name": "stderr",
     "output_type": "stream",
     "text": [
      "/home/imen/data-science/TNSM-master/venv/lib/python3.6/site-packages/ipykernel_launcher.py:2: SettingWithCopyWarning: \n",
      "A value is trying to be set on a copy of a slice from a DataFrame\n",
      "\n",
      "See the caveats in the documentation: http://pandas.pydata.org/pandas-docs/stable/indexing.html#indexing-view-versus-copy\n",
      "  \n",
      "/home/imen/data-science/TNSM-master/venv/lib/python3.6/site-packages/ipykernel_launcher.py:3: SettingWithCopyWarning: \n",
      "A value is trying to be set on a copy of a slice from a DataFrame\n",
      "\n",
      "See the caveats in the documentation: http://pandas.pydata.org/pandas-docs/stable/indexing.html#indexing-view-versus-copy\n",
      "  This is separate from the ipykernel package so we can avoid doing imports until\n",
      "/home/imen/data-science/TNSM-master/venv/lib/python3.6/site-packages/ipykernel_launcher.py:4: SettingWithCopyWarning: \n",
      "A value is trying to be set on a copy of a slice from a DataFrame\n",
      "\n",
      "See the caveats in the documentation: http://pandas.pydata.org/pandas-docs/stable/indexing.html#indexing-view-versus-copy\n",
      "  after removing the cwd from sys.path.\n"
     ]
    }
   ],
   "source": [
    "\n",
    "df_Sprout.SLO1[df_Sprout.cpu_wait_perc > 18.3] = 1\n",
    "df_Sprout.SLO2[df_Sprout.load_avg_1_min > 1.88] = 1\n",
    "df_Sprout.SLO3[df_Sprout.net_in_bytes_sec > 21139.343333] = 1\n",
    "#df_Ellis[df_Ellis.SLO2=1]\n",
    "#df_Ellis[df_Ellis.SLO3=1]"
   ]
  },
  {
   "cell_type": "code",
   "execution_count": 16,
   "metadata": {},
   "outputs": [
    {
     "data": {
      "text/html": [
       "<div>\n",
       "<style scoped>\n",
       "    .dataframe tbody tr th:only-of-type {\n",
       "        vertical-align: middle;\n",
       "    }\n",
       "\n",
       "    .dataframe tbody tr th {\n",
       "        vertical-align: top;\n",
       "    }\n",
       "\n",
       "    .dataframe thead th {\n",
       "        text-align: right;\n",
       "    }\n",
       "</style>\n",
       "<table border=\"1\" class=\"dataframe\">\n",
       "  <thead>\n",
       "    <tr style=\"text-align: right;\">\n",
       "      <th></th>\n",
       "      <th>Timestamp</th>\n",
       "      <th>load_avg_1_min</th>\n",
       "      <th>cpu_wait_perc</th>\n",
       "      <th>net_out_packets_sec</th>\n",
       "      <th>cpu_system_perc</th>\n",
       "      <th>net_in_bytes_sec</th>\n",
       "      <th>mem_free_mb</th>\n",
       "      <th>SLO1</th>\n",
       "      <th>SLO2</th>\n",
       "      <th>SLO3</th>\n",
       "    </tr>\n",
       "  </thead>\n",
       "  <tbody>\n",
       "    <tr>\n",
       "      <th>0</th>\n",
       "      <td>2016-08-31T20:48:41.725Z</td>\n",
       "      <td>1.79</td>\n",
       "      <td>6.2</td>\n",
       "      <td>66.300000</td>\n",
       "      <td>12.5</td>\n",
       "      <td>5842.733333</td>\n",
       "      <td>4737.0</td>\n",
       "      <td>0</td>\n",
       "      <td>0</td>\n",
       "      <td>0</td>\n",
       "    </tr>\n",
       "    <tr>\n",
       "      <th>1</th>\n",
       "      <td>2016-08-31T20:49:11.754Z</td>\n",
       "      <td>1.95</td>\n",
       "      <td>18.6</td>\n",
       "      <td>67.800000</td>\n",
       "      <td>0.9</td>\n",
       "      <td>5732.366667</td>\n",
       "      <td>4751.0</td>\n",
       "      <td>1</td>\n",
       "      <td>1</td>\n",
       "      <td>0</td>\n",
       "    </tr>\n",
       "    <tr>\n",
       "      <th>2</th>\n",
       "      <td>2016-08-31T20:49:41.727Z</td>\n",
       "      <td>1.84</td>\n",
       "      <td>18.6</td>\n",
       "      <td>66.333333</td>\n",
       "      <td>0.9</td>\n",
       "      <td>5667.433333</td>\n",
       "      <td>4751.0</td>\n",
       "      <td>1</td>\n",
       "      <td>0</td>\n",
       "      <td>0</td>\n",
       "    </tr>\n",
       "    <tr>\n",
       "      <th>3</th>\n",
       "      <td>2016-08-31T20:50:11.751Z</td>\n",
       "      <td>1.51</td>\n",
       "      <td>18.9</td>\n",
       "      <td>68.433333</td>\n",
       "      <td>0.8</td>\n",
       "      <td>5838.766667</td>\n",
       "      <td>4751.0</td>\n",
       "      <td>1</td>\n",
       "      <td>0</td>\n",
       "      <td>0</td>\n",
       "    </tr>\n",
       "    <tr>\n",
       "      <th>4</th>\n",
       "      <td>2016-08-31T20:50:41.728Z</td>\n",
       "      <td>1.50</td>\n",
       "      <td>19.1</td>\n",
       "      <td>66.300000</td>\n",
       "      <td>0.9</td>\n",
       "      <td>5763.833333</td>\n",
       "      <td>4751.0</td>\n",
       "      <td>1</td>\n",
       "      <td>0</td>\n",
       "      <td>0</td>\n",
       "    </tr>\n",
       "  </tbody>\n",
       "</table>\n",
       "</div>"
      ],
      "text/plain": [
       "                  Timestamp  load_avg_1_min  cpu_wait_perc  \\\n",
       "0  2016-08-31T20:48:41.725Z            1.79            6.2   \n",
       "1  2016-08-31T20:49:11.754Z            1.95           18.6   \n",
       "2  2016-08-31T20:49:41.727Z            1.84           18.6   \n",
       "3  2016-08-31T20:50:11.751Z            1.51           18.9   \n",
       "4  2016-08-31T20:50:41.728Z            1.50           19.1   \n",
       "\n",
       "   net_out_packets_sec  cpu_system_perc  net_in_bytes_sec  mem_free_mb  SLO1  \\\n",
       "0            66.300000             12.5       5842.733333       4737.0     0   \n",
       "1            67.800000              0.9       5732.366667       4751.0     1   \n",
       "2            66.333333              0.9       5667.433333       4751.0     1   \n",
       "3            68.433333              0.8       5838.766667       4751.0     1   \n",
       "4            66.300000              0.9       5763.833333       4751.0     1   \n",
       "\n",
       "   SLO2  SLO3  \n",
       "0     0     0  \n",
       "1     1     0  \n",
       "2     0     0  \n",
       "3     0     0  \n",
       "4     0     0  "
      ]
     },
     "execution_count": 16,
     "metadata": {},
     "output_type": "execute_result"
    }
   ],
   "source": [
    "df_Sprout.head()"
   ]
  },
  {
   "cell_type": "code",
   "execution_count": 17,
   "metadata": {},
   "outputs": [],
   "source": [
    "import numpy as np\n",
    "import pandas as pd\n",
    "from sklearn import tree\n",
    "\n",
    "#input_file = \"Data/EllisTree.csv\"\n",
    "#df = pd.read_csv(input_file, header = 0,sep=\";\")\n",
    "\n",
    "df = df_Sprout;"
   ]
  },
  {
   "cell_type": "code",
   "execution_count": 18,
   "metadata": {},
   "outputs": [
    {
     "data": {
      "text/html": [
       "<div>\n",
       "<style scoped>\n",
       "    .dataframe tbody tr th:only-of-type {\n",
       "        vertical-align: middle;\n",
       "    }\n",
       "\n",
       "    .dataframe tbody tr th {\n",
       "        vertical-align: top;\n",
       "    }\n",
       "\n",
       "    .dataframe thead th {\n",
       "        text-align: right;\n",
       "    }\n",
       "</style>\n",
       "<table border=\"1\" class=\"dataframe\">\n",
       "  <thead>\n",
       "    <tr style=\"text-align: right;\">\n",
       "      <th></th>\n",
       "      <th>Timestamp</th>\n",
       "      <th>load_avg_1_min</th>\n",
       "      <th>cpu_wait_perc</th>\n",
       "      <th>net_out_packets_sec</th>\n",
       "      <th>cpu_system_perc</th>\n",
       "      <th>net_in_bytes_sec</th>\n",
       "      <th>mem_free_mb</th>\n",
       "      <th>SLO1</th>\n",
       "      <th>SLO2</th>\n",
       "      <th>SLO3</th>\n",
       "    </tr>\n",
       "  </thead>\n",
       "  <tbody>\n",
       "    <tr>\n",
       "      <th>0</th>\n",
       "      <td>2016-08-31T20:48:41.725Z</td>\n",
       "      <td>1.79</td>\n",
       "      <td>6.2</td>\n",
       "      <td>66.300000</td>\n",
       "      <td>12.5</td>\n",
       "      <td>5842.733333</td>\n",
       "      <td>4737.0</td>\n",
       "      <td>0</td>\n",
       "      <td>0</td>\n",
       "      <td>0</td>\n",
       "    </tr>\n",
       "    <tr>\n",
       "      <th>1</th>\n",
       "      <td>2016-08-31T20:49:11.754Z</td>\n",
       "      <td>1.95</td>\n",
       "      <td>18.6</td>\n",
       "      <td>67.800000</td>\n",
       "      <td>0.9</td>\n",
       "      <td>5732.366667</td>\n",
       "      <td>4751.0</td>\n",
       "      <td>1</td>\n",
       "      <td>1</td>\n",
       "      <td>0</td>\n",
       "    </tr>\n",
       "    <tr>\n",
       "      <th>2</th>\n",
       "      <td>2016-08-31T20:49:41.727Z</td>\n",
       "      <td>1.84</td>\n",
       "      <td>18.6</td>\n",
       "      <td>66.333333</td>\n",
       "      <td>0.9</td>\n",
       "      <td>5667.433333</td>\n",
       "      <td>4751.0</td>\n",
       "      <td>1</td>\n",
       "      <td>0</td>\n",
       "      <td>0</td>\n",
       "    </tr>\n",
       "    <tr>\n",
       "      <th>3</th>\n",
       "      <td>2016-08-31T20:50:11.751Z</td>\n",
       "      <td>1.51</td>\n",
       "      <td>18.9</td>\n",
       "      <td>68.433333</td>\n",
       "      <td>0.8</td>\n",
       "      <td>5838.766667</td>\n",
       "      <td>4751.0</td>\n",
       "      <td>1</td>\n",
       "      <td>0</td>\n",
       "      <td>0</td>\n",
       "    </tr>\n",
       "    <tr>\n",
       "      <th>4</th>\n",
       "      <td>2016-08-31T20:50:41.728Z</td>\n",
       "      <td>1.50</td>\n",
       "      <td>19.1</td>\n",
       "      <td>66.300000</td>\n",
       "      <td>0.9</td>\n",
       "      <td>5763.833333</td>\n",
       "      <td>4751.0</td>\n",
       "      <td>1</td>\n",
       "      <td>0</td>\n",
       "      <td>0</td>\n",
       "    </tr>\n",
       "  </tbody>\n",
       "</table>\n",
       "</div>"
      ],
      "text/plain": [
       "                  Timestamp  load_avg_1_min  cpu_wait_perc  \\\n",
       "0  2016-08-31T20:48:41.725Z            1.79            6.2   \n",
       "1  2016-08-31T20:49:11.754Z            1.95           18.6   \n",
       "2  2016-08-31T20:49:41.727Z            1.84           18.6   \n",
       "3  2016-08-31T20:50:11.751Z            1.51           18.9   \n",
       "4  2016-08-31T20:50:41.728Z            1.50           19.1   \n",
       "\n",
       "   net_out_packets_sec  cpu_system_perc  net_in_bytes_sec  mem_free_mb  SLO1  \\\n",
       "0            66.300000             12.5       5842.733333       4737.0     0   \n",
       "1            67.800000              0.9       5732.366667       4751.0     1   \n",
       "2            66.333333              0.9       5667.433333       4751.0     1   \n",
       "3            68.433333              0.8       5838.766667       4751.0     1   \n",
       "4            66.300000              0.9       5763.833333       4751.0     1   \n",
       "\n",
       "   SLO2  SLO3  \n",
       "0     0     0  \n",
       "1     1     0  \n",
       "2     0     0  \n",
       "3     0     0  \n",
       "4     0     0  "
      ]
     },
     "execution_count": 18,
     "metadata": {},
     "output_type": "execute_result"
    }
   ],
   "source": [
    "df.head()"
   ]
  },
  {
   "cell_type": "markdown",
   "metadata": {},
   "source": [
    "scikit-learn needs everything to be numerical for decision trees to work. So, we'll map Y,N to 1,0 and levels of education to some scale of 0-2. In the real world, you'd need to think about how to deal with unexpected or missing data! By using map(), we know we'll get NaN for unexpected values."
   ]
  },
  {
   "cell_type": "code",
   "execution_count": 19,
   "metadata": {},
   "outputs": [
    {
     "data": {
      "text/plain": [
       "\"d = {'Y': 1, 'N': 0, 'F' : 2}\\ndf['Hired'] = df['Hired'].map(d)\\ndf['Employed?'] = df['Employed?'].map(d)\\ndf['Top-tier school'] = df['Top-tier school'].map(d)\\ndf['Interned'] = df['Interned'].map(d)\\nd = {'BS': 0, 'MS': 1, 'PhD': 2}\\ndf['Level of Education'] = df['Level of Education'].map(d)\\ndf.head()\""
      ]
     },
     "execution_count": 19,
     "metadata": {},
     "output_type": "execute_result"
    }
   ],
   "source": [
    "'''d = {'Y': 1, 'N': 0, 'F' : 2}\n",
    "df['Hired'] = df['Hired'].map(d)\n",
    "df['Employed?'] = df['Employed?'].map(d)\n",
    "df['Top-tier school'] = df['Top-tier school'].map(d)\n",
    "df['Interned'] = df['Interned'].map(d)\n",
    "d = {'BS': 0, 'MS': 1, 'PhD': 2}\n",
    "df['Level of Education'] = df['Level of Education'].map(d)\n",
    "df.head()'''"
   ]
  },
  {
   "cell_type": "markdown",
   "metadata": {},
   "source": [
    "Next we need to separate the features from the target column that we're trying to bulid a decision tree for."
   ]
  },
  {
   "cell_type": "code",
   "execution_count": 20,
   "metadata": {},
   "outputs": [
    {
     "data": {
      "text/plain": [
       "['load_avg_1_min',\n",
       " 'cpu_wait_perc',\n",
       " 'net_out_packets_sec',\n",
       " 'cpu_system_perc',\n",
       " 'net_in_bytes_sec',\n",
       " 'mem_free_mb']"
      ]
     },
     "execution_count": 20,
     "metadata": {},
     "output_type": "execute_result"
    }
   ],
   "source": [
    "features = list(df.columns[1:7])\n",
    "features"
   ]
  },
  {
   "cell_type": "markdown",
   "metadata": {},
   "source": [
    "Now actually construct the decision tree:"
   ]
  },
  {
   "cell_type": "code",
   "execution_count": 21,
   "metadata": {},
   "outputs": [
    {
     "data": {
      "text/html": [
       "<div>\n",
       "<style scoped>\n",
       "    .dataframe tbody tr th:only-of-type {\n",
       "        vertical-align: middle;\n",
       "    }\n",
       "\n",
       "    .dataframe tbody tr th {\n",
       "        vertical-align: top;\n",
       "    }\n",
       "\n",
       "    .dataframe thead th {\n",
       "        text-align: right;\n",
       "    }\n",
       "</style>\n",
       "<table border=\"1\" class=\"dataframe\">\n",
       "  <thead>\n",
       "    <tr style=\"text-align: right;\">\n",
       "      <th></th>\n",
       "      <th>SLO1</th>\n",
       "      <th>SLO2</th>\n",
       "      <th>SLO3</th>\n",
       "    </tr>\n",
       "  </thead>\n",
       "  <tbody>\n",
       "    <tr>\n",
       "      <th>0</th>\n",
       "      <td>0</td>\n",
       "      <td>0</td>\n",
       "      <td>0</td>\n",
       "    </tr>\n",
       "    <tr>\n",
       "      <th>1</th>\n",
       "      <td>1</td>\n",
       "      <td>1</td>\n",
       "      <td>0</td>\n",
       "    </tr>\n",
       "    <tr>\n",
       "      <th>2</th>\n",
       "      <td>1</td>\n",
       "      <td>0</td>\n",
       "      <td>0</td>\n",
       "    </tr>\n",
       "    <tr>\n",
       "      <th>3</th>\n",
       "      <td>1</td>\n",
       "      <td>0</td>\n",
       "      <td>0</td>\n",
       "    </tr>\n",
       "    <tr>\n",
       "      <th>4</th>\n",
       "      <td>1</td>\n",
       "      <td>0</td>\n",
       "      <td>0</td>\n",
       "    </tr>\n",
       "  </tbody>\n",
       "</table>\n",
       "</div>"
      ],
      "text/plain": [
       "   SLO1  SLO2  SLO3\n",
       "0     0     0     0\n",
       "1     1     1     0\n",
       "2     1     0     0\n",
       "3     1     0     0\n",
       "4     1     0     0"
      ]
     },
     "execution_count": 21,
     "metadata": {},
     "output_type": "execute_result"
    }
   ],
   "source": [
    "df.loc[:,\"SLO1\":\"SLO3\"].head()"
   ]
  },
  {
   "cell_type": "code",
   "execution_count": 22,
   "metadata": {},
   "outputs": [],
   "source": [
    "y = df.loc[:,\"SLO1\":\"SLO3\"]\n",
    "X = df[features]\n",
    "clf = tree.DecisionTreeClassifier()\n",
    "clf = clf.fit(X,y)"
   ]
  },
  {
   "cell_type": "markdown",
   "metadata": {},
   "source": [
    "... and display it. Note you need to have pyplot2 installed for this to work.\n",
    "\n",
    "To read this decision tree, each condition branches left for \"true\" and right for \"false\". When you end up at a value, the value array represents how many samples exist in each target value. So value = [0. 5.] mean there are 0 \"no hires\" and 5 \"hires\" by the tim we get to that point. value = [3. 0.] means 3 no-hires and 0 hires."
   ]
  },
  {
   "cell_type": "code",
   "execution_count": 23,
   "metadata": {},
   "outputs": [
    {
     "data": {
      "image/jpeg": "[encoded data removed]",
      "text/plain": [
       "<IPython.core.display.Image object>"
      ]
     },
     "execution_count": 23,
     "metadata": {},
     "output_type": "execute_result"
    }
   ],
   "source": [
    "from IPython.display import Image  \n",
    "from sklearn.externals.six import StringIO  \n",
    "import pydotplus\n",
    "\n",
    "\n",
    "\n",
    "dot_data = StringIO()  \n",
    "tree.export_graphviz(clf, out_file=dot_data,  \n",
    "                         feature_names=features)  \n",
    "graph = pydotplus.graph_from_dot_data(dot_data.getvalue())  \n",
    "Image(graph.create_jpeg())"
   ]
  },
  {
   "cell_type": "markdown",
   "metadata": {},
   "source": [
    "## Ensemble learning: using a random forest"
   ]
  },
  {
   "cell_type": "markdown",
   "metadata": {},
   "source": [
    "We'll use a random forest of 10 decision trees to predict employment of specific candidate profiles:"
   ]
  },
  {
   "cell_type": "code",
   "execution_count": 24,
   "metadata": {},
   "outputs": [
    {
     "data": {
      "text/plain": [
       "array([[0., 1., 0.]])"
      ]
     },
     "execution_count": 24,
     "metadata": {},
     "output_type": "execute_result"
    }
   ],
   "source": [
    "from sklearn.ensemble import RandomForestClassifier\n",
    "\n",
    "clf = RandomForestClassifier(n_estimators=10)\n",
    "clf = clf.fit(X, y)\n",
    "\n",
    "#Predict employment of an employed 10-year veteran\n",
    "clf.predict([[10, 1, 4, 0, 0, 0]])\n",
    "#...and an unemployed 10-year veteran\n",
    "\n",
    "clf.predict([[10, 0, 4, 0, 0, 0]])"
   ]
  },
  {
   "cell_type": "markdown",
   "metadata": {},
   "source": [
    "## Activity"
   ]
  },
  {
   "cell_type": "markdown",
   "metadata": {},
   "source": [
    "Modify the test data to create an alternate universe where everyone I hire everyone I normally wouldn't have, and vice versa. Compare the resulting decision tree to the one from the original data."
   ]
  },
  {
   "cell_type": "code",
   "execution_count": null,
   "metadata": {},
   "outputs": [],
   "source": []
  },
  {
   "cell_type": "code",
   "execution_count": null,
   "metadata": {},
   "outputs": [],
   "source": []
  },
  {
   "cell_type": "code",
   "execution_count": null,
   "metadata": {},
   "outputs": [],
   "source": []
  }
 ],
 "metadata": {
  "kernelspec": {
   "display_name": "Python 3",
   "language": "python",
   "name": "python3"
  },
  "language_info": {
   "codemirror_mode": {
    "name": "ipython",
    "version": 3
   },
   "file_extension": ".py",
   "mimetype": "text/x-python",
   "name": "python",
   "nbconvert_exporter": "python",
   "pygments_lexer": "ipython3",
   "version": "3.6.7"
  }
 },
 "nbformat": 4,
 "nbformat_minor": 1
}
