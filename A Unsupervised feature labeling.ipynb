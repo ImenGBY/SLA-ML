{
 "cells": [
  {
   "cell_type": "code",
   "execution_count": 77,
   "metadata": {},
   "outputs": [],
   "source": [
    "#import keras\n",
    "import pandas as pd\n",
    "import numpy as np\n",
    "import ast\n",
    "import matplotlib\n",
    "import matplotlib.pyplot as plt\n",
    "import os\n",
    "#matplotlib.style.use('ggplot')\n",
    "%matplotlib inline\n",
    "from Util import preprocessing, set_dummies, activ, init, layers, optim, structure, scores\n",
    "import seaborn as sns\n",
    "matplotlib.rcParams.update({'font.size': 22})\n",
    "sns.set(font_scale=1.5)"
   ]
  },
  {
   "cell_type": "markdown",
   "metadata": {},
   "source": [
    "## Preprocessed"
   ]
  },
  {
   "cell_type": "code",
   "execution_count": 78,
   "metadata": {},
   "outputs": [],
   "source": [
    "import pandas as pd\n",
    "import numpy as np"
   ]
  },
  {
   "cell_type": "code",
   "execution_count": 79,
   "metadata": {},
   "outputs": [],
   "source": [
    "X = np.load('/home/imen/Desktop/Data/data/X.npy')\n",
    "dframe = pd.DataFrame(data=X,columns=['ellis-cpu.idle_perc', 'ralf-load.avg_15_min', 'bono-net.in_errors_sec', 'homer-net.out_bytes_sec', 'ellis-io.write_req_sec', 'homer-mem.total_mb', 'homestead-load.avg_1_min', 'homer-load.avg_1_min', 'sprout-cpu.stolen_perc', 'ralf-cpu.idle_perc', 'sprout-io.read_req_sec', 'homestead-net.in_bytes_sec', 'homer-disk.space_used_perc', 'bono-net.out_packets_sec', 'homer-cpu.wait_perc', 'ellis-net.in_packets_sec', 'bono-mem.free_mb', 'ellis-io.read_req_sec', 'bono-mem.usable_mb', 'bono-net.in_packets_dropped_sec', 'homestead-mem.free_mb', 'homer-io.write_time_sec', 'sprout-io.write_time_sec', 'homestead-net.in_errors_sec', 'homestead-mem.usable_perc', 'homestead-net.in_packets_dropped_sec', 'homestead-io.write_req_sec', 'bono-net.in_bytes_sec', 'homestead-disk.space_used_perc', 'homer-net.out_packets_sec', 'bono-mem.usable_perc', 'ralf-net.out_errors_sec', 'homestead-load.avg_5_min', 'sprout-io.read_kbytes_sec', 'sprout-net.out_errors_sec', 'homestead-io.write_kbytes_sec', 'homestead-net.in_packets_sec', 'sprout-mem.usable_mb', 'homestead-cpu.idle_perc', 'ralf-io.write_time_sec', 'ralf-io.write_kbytes_sec', 'ralf-io.write_req_sec', 'ellis-net.out_bytes_sec', 'bono-io.read_kbytes_sec', 'bono-disk.space_used_perc', 'homer-net.in_packets_dropped_sec', 'ralf-mem.usable_mb', 'bono-load.avg_15_min', 'bono-io.read_time_sec', 'sprout-mem.usable_perc', 'bono-cpu.idle_perc', 'homer-mem.usable_perc', 'homestead-cpu.stolen_perc', 'ralf-io.read_req_sec', 'homer-cpu.idle_perc', 'homestead-mem.total_mb', 'ralf-load.avg_1_min', 'homer-io.read_kbytes_sec', 'homestead-io.read_req_sec', 'ellis-mem.free_mb', 'bono-io.write_time_sec', 'ellis-net.out_errors_sec', 'ellis-cpu.stolen_perc', 'ellis-mem.usable_perc', 'ralf-disk.inode_used_perc', 'sprout-load.avg_15_min', 'ellis-io.read_time_sec', 'ralf-net.out_packets_sec', 'sprout-io.write_req_sec', 'bono-cpu.stolen_perc', 'homestead-load.avg_15_min', 'bono-cpu.system_perc', 'homestead-net.out_packets_sec', 'ellis-io.write_kbytes_sec', 'sprout-cpu.idle_perc', 'ellis-mem.total_mb', 'homer-mem.usable_mb', 'bono-load.avg_5_min', 'ellis-load.avg_5_min', 'homer-cpu.stolen_perc', 'sprout-net.out_bytes_sec', 'homestead-mem.usable_mb', 'homestead-disk.inode_used_perc', 'ralf-net.in_packets_dropped_sec', 'sprout-io.write_kbytes_sec', 'ellis-load.avg_15_min', 'homer-load.avg_5_min', 'ralf-mem.usable_perc', 'bono-net.out_bytes_sec', 'ellis-cpu.system_perc', 'homer-io.read_time_sec', 'ellis-disk.inode_used_perc', 'homestead-io.read_time_sec', 'sprout-net.in_bytes_sec', 'bono-io.write_kbytes_sec', 'homestead-io.read_kbytes_sec', 'ellis-net.in_errors_sec', 'sprout-io.read_time_sec', 'homer-disk.inode_used_perc', 'ralf-cpu.wait_perc', 'homer-load.avg_15_min', 'sprout-load.avg_5_min', 'homer-io.read_req_sec', 'ralf-mem.total_mb', 'homer-mem.free_mb', 'homer-net.in_packets_sec', 'homestead-net.out_bytes_sec', 'sprout-disk.inode_used_perc', 'ellis-mem.usable_mb', 'homer-io.write_kbytes_sec', 'homer-net.out_errors_sec', 'homer-cpu.system_perc', 'ellis-io.read_kbytes_sec', 'sprout-load.avg_1_min', 'sprout-cpu.system_perc', 'ralf-cpu.stolen_perc', 'bono-mem.total_mb', 'bono-net.out_errors_sec', 'ellis-io.write_time_sec', 'ralf-io.read_time_sec', 'sprout-cpu.wait_perc', 'ellis-cpu.wait_perc', 'ralf-disk.space_used_perc', 'ralf-net.out_bytes_sec', 'ellis-net.in_packets_dropped_sec', 'homer-net.in_bytes_sec', 'ellis-net.in_bytes_sec', 'bono-cpu.wait_perc', 'ralf-net.in_packets_sec', 'sprout-mem.total_mb', 'ralf-net.in_bytes_sec', 'bono-load.avg_1_min', 'sprout-net.in_packets_sec', 'bono-io.write_req_sec', 'ralf-load.avg_5_min', 'ralf-net.in_errors_sec', 'bono-disk.inode_used_perc', 'homestead-io.write_time_sec', 'ellis-net.out_packets_sec', 'sprout-disk.space_used_perc', 'ralf-io.read_kbytes_sec', 'homestead-cpu.system_perc', 'sprout-mem.free_mb', 'homer-net.in_errors_sec', 'homestead-net.out_errors_sec', 'homer-io.write_req_sec', 'sprout-net.in_errors_sec', 'ellis-disk.space_used_perc', 'sprout-net.out_packets_sec', 'sprout-net.in_packets_dropped_sec', 'ralf-cpu.system_perc', 'ralf-mem.free_mb', 'bono-io.read_req_sec', 'bono-net.in_packets_sec', 'homestead-cpu.wait_perc', 'ellis-load.avg_1_min'])\n",
    "dframesorted = dframe.sort_index(axis=1, by=None, ascending=True, inplace=False, kind='quicksort')\n",
    "#dframe = pd.read_csv(\"/home/jaafar/Desktop/TNSM/data/Tmp/X_126.sw\",delimiter=';',header='infer',index_col=[0],nrows=1000)"
   ]
  },
  {
   "cell_type": "code",
   "execution_count": 80,
   "metadata": {},
   "outputs": [
    {
     "data": {
      "text/html": [
       "<div>\n",
       "<style scoped>\n",
       "    .dataframe tbody tr th:only-of-type {\n",
       "        vertical-align: middle;\n",
       "    }\n",
       "\n",
       "    .dataframe tbody tr th {\n",
       "        vertical-align: top;\n",
       "    }\n",
       "\n",
       "    .dataframe thead th {\n",
       "        text-align: right;\n",
       "    }\n",
       "</style>\n",
       "<table border=\"1\" class=\"dataframe\">\n",
       "  <thead>\n",
       "    <tr style=\"text-align: right;\">\n",
       "      <th></th>\n",
       "      <th>bono-cpu.idle_perc</th>\n",
       "      <th>bono-cpu.stolen_perc</th>\n",
       "      <th>bono-cpu.system_perc</th>\n",
       "      <th>bono-cpu.wait_perc</th>\n",
       "      <th>bono-disk.inode_used_perc</th>\n",
       "      <th>bono-disk.space_used_perc</th>\n",
       "      <th>bono-io.read_kbytes_sec</th>\n",
       "      <th>bono-io.read_req_sec</th>\n",
       "      <th>bono-io.read_time_sec</th>\n",
       "      <th>bono-io.write_kbytes_sec</th>\n",
       "      <th>...</th>\n",
       "      <th>sprout-mem.total_mb</th>\n",
       "      <th>sprout-mem.usable_mb</th>\n",
       "      <th>sprout-mem.usable_perc</th>\n",
       "      <th>sprout-net.in_bytes_sec</th>\n",
       "      <th>sprout-net.in_errors_sec</th>\n",
       "      <th>sprout-net.in_packets_dropped_sec</th>\n",
       "      <th>sprout-net.in_packets_sec</th>\n",
       "      <th>sprout-net.out_bytes_sec</th>\n",
       "      <th>sprout-net.out_errors_sec</th>\n",
       "      <th>sprout-net.out_packets_sec</th>\n",
       "    </tr>\n",
       "  </thead>\n",
       "  <tbody>\n",
       "    <tr>\n",
       "      <th>0</th>\n",
       "      <td>8.24887</td>\n",
       "      <td>1</td>\n",
       "      <td>1.3125</td>\n",
       "      <td>2.82412</td>\n",
       "      <td>4.375</td>\n",
       "      <td>1</td>\n",
       "      <td>1</td>\n",
       "      <td>1</td>\n",
       "      <td>1</td>\n",
       "      <td>1.01896</td>\n",
       "      <td>...</td>\n",
       "      <td>1</td>\n",
       "      <td>8.97516</td>\n",
       "      <td>8.95</td>\n",
       "      <td>1.05133</td>\n",
       "      <td>1</td>\n",
       "      <td>1</td>\n",
       "      <td>1.37809</td>\n",
       "      <td>1.06489</td>\n",
       "      <td>1</td>\n",
       "      <td>1.44158</td>\n",
       "    </tr>\n",
       "    <tr>\n",
       "      <th>1</th>\n",
       "      <td>8.50679</td>\n",
       "      <td>1</td>\n",
       "      <td>1.375</td>\n",
       "      <td>2.55276</td>\n",
       "      <td>4.375</td>\n",
       "      <td>1</td>\n",
       "      <td>1</td>\n",
       "      <td>1</td>\n",
       "      <td>1</td>\n",
       "      <td>1.01752</td>\n",
       "      <td>...</td>\n",
       "      <td>1</td>\n",
       "      <td>9.01242</td>\n",
       "      <td>8.95</td>\n",
       "      <td>1.0499</td>\n",
       "      <td>1</td>\n",
       "      <td>1</td>\n",
       "      <td>1.37682</td>\n",
       "      <td>1.0618</td>\n",
       "      <td>1</td>\n",
       "      <td>1.42825</td>\n",
       "    </tr>\n",
       "    <tr>\n",
       "      <th>2</th>\n",
       "      <td>8.14027</td>\n",
       "      <td>1</td>\n",
       "      <td>1.3125</td>\n",
       "      <td>2.92965</td>\n",
       "      <td>4.375</td>\n",
       "      <td>1</td>\n",
       "      <td>1</td>\n",
       "      <td>1</td>\n",
       "      <td>1</td>\n",
       "      <td>1.01699</td>\n",
       "      <td>...</td>\n",
       "      <td>1</td>\n",
       "      <td>8.97516</td>\n",
       "      <td>8.95</td>\n",
       "      <td>1.05176</td>\n",
       "      <td>1</td>\n",
       "      <td>1</td>\n",
       "      <td>1.38147</td>\n",
       "      <td>1.06439</td>\n",
       "      <td>1</td>\n",
       "      <td>1.4409</td>\n",
       "    </tr>\n",
       "    <tr>\n",
       "      <th>3</th>\n",
       "      <td>7.9638</td>\n",
       "      <td>1</td>\n",
       "      <td>1.25</td>\n",
       "      <td>3.17085</td>\n",
       "      <td>4.375</td>\n",
       "      <td>1</td>\n",
       "      <td>1</td>\n",
       "      <td>1</td>\n",
       "      <td>1</td>\n",
       "      <td>1.01675</td>\n",
       "      <td>...</td>\n",
       "      <td>1</td>\n",
       "      <td>8.99379</td>\n",
       "      <td>8.95</td>\n",
       "      <td>1.04992</td>\n",
       "      <td>1</td>\n",
       "      <td>1</td>\n",
       "      <td>1.37471</td>\n",
       "      <td>1.06202</td>\n",
       "      <td>1</td>\n",
       "      <td>1.42667</td>\n",
       "    </tr>\n",
       "    <tr>\n",
       "      <th>4</th>\n",
       "      <td>8.08597</td>\n",
       "      <td>1</td>\n",
       "      <td>1.375</td>\n",
       "      <td>3.00503</td>\n",
       "      <td>4.375</td>\n",
       "      <td>1</td>\n",
       "      <td>1</td>\n",
       "      <td>1</td>\n",
       "      <td>1</td>\n",
       "      <td>1.01789</td>\n",
       "      <td>...</td>\n",
       "      <td>1</td>\n",
       "      <td>8.97516</td>\n",
       "      <td>8.95</td>\n",
       "      <td>1.05182</td>\n",
       "      <td>1</td>\n",
       "      <td>1</td>\n",
       "      <td>1.37957</td>\n",
       "      <td>1.06471</td>\n",
       "      <td>1</td>\n",
       "      <td>1.44135</td>\n",
       "    </tr>\n",
       "  </tbody>\n",
       "</table>\n",
       "<p>5 rows × 156 columns</p>\n",
       "</div>"
      ],
      "text/plain": [
       "  bono-cpu.idle_perc bono-cpu.stolen_perc bono-cpu.system_perc  \\\n",
       "0            8.24887                    1               1.3125   \n",
       "1            8.50679                    1                1.375   \n",
       "2            8.14027                    1               1.3125   \n",
       "3             7.9638                    1                 1.25   \n",
       "4            8.08597                    1                1.375   \n",
       "\n",
       "  bono-cpu.wait_perc bono-disk.inode_used_perc bono-disk.space_used_perc  \\\n",
       "0            2.82412                     4.375                         1   \n",
       "1            2.55276                     4.375                         1   \n",
       "2            2.92965                     4.375                         1   \n",
       "3            3.17085                     4.375                         1   \n",
       "4            3.00503                     4.375                         1   \n",
       "\n",
       "  bono-io.read_kbytes_sec bono-io.read_req_sec bono-io.read_time_sec  \\\n",
       "0                       1                    1                     1   \n",
       "1                       1                    1                     1   \n",
       "2                       1                    1                     1   \n",
       "3                       1                    1                     1   \n",
       "4                       1                    1                     1   \n",
       "\n",
       "  bono-io.write_kbytes_sec            ...             sprout-mem.total_mb  \\\n",
       "0                  1.01896            ...                               1   \n",
       "1                  1.01752            ...                               1   \n",
       "2                  1.01699            ...                               1   \n",
       "3                  1.01675            ...                               1   \n",
       "4                  1.01789            ...                               1   \n",
       "\n",
       "  sprout-mem.usable_mb sprout-mem.usable_perc sprout-net.in_bytes_sec  \\\n",
       "0              8.97516                   8.95                 1.05133   \n",
       "1              9.01242                   8.95                  1.0499   \n",
       "2              8.97516                   8.95                 1.05176   \n",
       "3              8.99379                   8.95                 1.04992   \n",
       "4              8.97516                   8.95                 1.05182   \n",
       "\n",
       "  sprout-net.in_errors_sec sprout-net.in_packets_dropped_sec  \\\n",
       "0                        1                                 1   \n",
       "1                        1                                 1   \n",
       "2                        1                                 1   \n",
       "3                        1                                 1   \n",
       "4                        1                                 1   \n",
       "\n",
       "  sprout-net.in_packets_sec sprout-net.out_bytes_sec  \\\n",
       "0                   1.37809                  1.06489   \n",
       "1                   1.37682                   1.0618   \n",
       "2                   1.38147                  1.06439   \n",
       "3                   1.37471                  1.06202   \n",
       "4                   1.37957                  1.06471   \n",
       "\n",
       "  sprout-net.out_errors_sec sprout-net.out_packets_sec  \n",
       "0                         1                    1.44158  \n",
       "1                         1                    1.42825  \n",
       "2                         1                     1.4409  \n",
       "3                         1                    1.42667  \n",
       "4                         1                    1.44135  \n",
       "\n",
       "[5 rows x 156 columns]"
      ]
     },
     "execution_count": 80,
     "metadata": {},
     "output_type": "execute_result"
    }
   ],
   "source": [
    "dframesorted.head()"
   ]
  },
  {
   "cell_type": "code",
   "execution_count": 81,
   "metadata": {},
   "outputs": [
    {
     "name": "stdout",
     "output_type": "stream",
     "text": [
      "{0, 1, 2}\n"
     ]
    }
   ],
   "source": [
    "from sklearn.cluster import KMeans\n",
    "import numpy as np\n",
    "X = dframe.iloc[:,0:156].values\n",
    "\n",
    "kmeans = KMeans(n_clusters=3).fit(X)\n",
    "\n",
    "print (set(kmeans.labels_))"
   ]
  },
  {
   "cell_type": "code",
   "execution_count": 82,
   "metadata": {},
   "outputs": [],
   "source": [
    "dframe['SLA'] = kmeans.predict(dframe.iloc[:,0:156])"
   ]
  },
  {
   "cell_type": "code",
   "execution_count": 83,
   "metadata": {},
   "outputs": [],
   "source": [
    "SLA = kmeans.predict(dframe.iloc[:,0:156])"
   ]
  },
  {
   "cell_type": "code",
   "execution_count": 84,
   "metadata": {},
   "outputs": [
    {
     "data": {
      "text/plain": [
       "{0, 1, 2}"
      ]
     },
     "execution_count": 84,
     "metadata": {},
     "output_type": "execute_result"
    }
   ],
   "source": [
    "set(dframe['SLA'])"
   ]
  },
  {
   "cell_type": "code",
   "execution_count": 85,
   "metadata": {},
   "outputs": [
    {
     "data": {
      "text/plain": [
       "Index(['ellis-cpu.idle_perc', 'ralf-load.avg_15_min', 'bono-net.in_errors_sec',\n",
       "       'homer-net.out_bytes_sec', 'ellis-io.write_req_sec',\n",
       "       'homer-mem.total_mb', 'homestead-load.avg_1_min',\n",
       "       'homer-load.avg_1_min', 'sprout-cpu.stolen_perc', 'ralf-cpu.idle_perc',\n",
       "       ...\n",
       "       'ellis-disk.space_used_perc', 'sprout-net.out_packets_sec',\n",
       "       'sprout-net.in_packets_dropped_sec', 'ralf-cpu.system_perc',\n",
       "       'ralf-mem.free_mb', 'bono-io.read_req_sec', 'bono-net.in_packets_sec',\n",
       "       'homestead-cpu.wait_perc', 'ellis-load.avg_1_min', 'SLA'],\n",
       "      dtype='object', length=157)"
      ]
     },
     "execution_count": 85,
     "metadata": {},
     "output_type": "execute_result"
    }
   ],
   "source": [
    "dframe.columns"
   ]
  },
  {
   "cell_type": "markdown",
   "metadata": {},
   "source": [
    "## Adding PCA"
   ]
  },
  {
   "cell_type": "code",
   "execution_count": 86,
   "metadata": {},
   "outputs": [],
   "source": [
    "from sklearn.decomposition import PCA\n",
    "pca = PCA(n_components=3)\n",
    "X = (dframe.iloc[:,0:156].values).astype('float32')\n",
    "X_reduced_4 = pca.fit_transform(X)"
   ]
  },
  {
   "cell_type": "code",
   "execution_count": 87,
   "metadata": {},
   "outputs": [],
   "source": [
    "df_reduced_4 = pd.DataFrame(data=X_reduced_4)"
   ]
  },
  {
   "cell_type": "code",
   "execution_count": 88,
   "metadata": {},
   "outputs": [
    {
     "data": {
      "text/plain": [
       "<matplotlib.collections.PathCollection at 0x7f05a4673ac8>"
      ]
     },
     "execution_count": 88,
     "metadata": {},
     "output_type": "execute_result"
    },
    {
     "data": {
      "image/png": "[encoded data removed]",
      "text/plain": [
       "<Figure size 432x288 with 1 Axes>"
      ]
     },
     "metadata": {},
     "output_type": "display_data"
    }
   ],
   "source": [
    "plt.scatter(df_reduced_4.iloc[:,2],df_reduced_4.iloc[:,1])"
   ]
  },
  {
   "cell_type": "code",
   "execution_count": 89,
   "metadata": {},
   "outputs": [
    {
     "data": {
      "text/plain": [
       "<matplotlib.axes._subplots.AxesSubplot at 0x7f05b397b668>"
      ]
     },
     "execution_count": 89,
     "metadata": {},
     "output_type": "execute_result"
    },
    {
     "data": {
      "image/png": "[encoded data removed]",
      "text/plain": [
       "<Figure size 432x288 with 1 Axes>"
      ]
     },
     "metadata": {},
     "output_type": "display_data"
    }
   ],
   "source": [
    "#dframe[['SLA','bono-net.in_packets_sec.csv','ralf-mem.free_mb.csv']].plot()\n",
    "df_reduced_4.plot()\n",
    "#dframe['SLA'].plot()"
   ]
  },
  {
   "cell_type": "code",
   "execution_count": 90,
   "metadata": {},
   "outputs": [
    {
     "data": {
      "text/plain": [
       "{0, 1, 2}"
      ]
     },
     "execution_count": 90,
     "metadata": {},
     "output_type": "execute_result"
    }
   ],
   "source": [
    "set(dframe['SLA'])"
   ]
  },
  {
   "cell_type": "code",
   "execution_count": 91,
   "metadata": {},
   "outputs": [],
   "source": [
    "dummies = ['SLA']\n",
    "\n",
    "df_activ = pd.get_dummies(dframe.SLA, prefix='slo')\n",
    "# Join the dummy variables to the main dataframe\n",
    "dframe = pd.concat([dframe, df_activ], axis=1)\n",
    "dframe.drop('SLA',inplace=True,axis=1)"
   ]
  },
  {
   "cell_type": "code",
   "execution_count": 92,
   "metadata": {},
   "outputs": [
    {
     "data": {
      "text/html": [
       "<div>\n",
       "<style scoped>\n",
       "    .dataframe tbody tr th:only-of-type {\n",
       "        vertical-align: middle;\n",
       "    }\n",
       "\n",
       "    .dataframe tbody tr th {\n",
       "        vertical-align: top;\n",
       "    }\n",
       "\n",
       "    .dataframe thead th {\n",
       "        text-align: right;\n",
       "    }\n",
       "</style>\n",
       "<table border=\"1\" class=\"dataframe\">\n",
       "  <thead>\n",
       "    <tr style=\"text-align: right;\">\n",
       "      <th></th>\n",
       "      <th>slo_0</th>\n",
       "      <th>slo_1</th>\n",
       "      <th>slo_2</th>\n",
       "    </tr>\n",
       "  </thead>\n",
       "  <tbody>\n",
       "    <tr>\n",
       "      <th>0</th>\n",
       "      <td>0</td>\n",
       "      <td>0</td>\n",
       "      <td>1</td>\n",
       "    </tr>\n",
       "    <tr>\n",
       "      <th>1</th>\n",
       "      <td>0</td>\n",
       "      <td>0</td>\n",
       "      <td>1</td>\n",
       "    </tr>\n",
       "    <tr>\n",
       "      <th>2</th>\n",
       "      <td>0</td>\n",
       "      <td>0</td>\n",
       "      <td>1</td>\n",
       "    </tr>\n",
       "    <tr>\n",
       "      <th>3</th>\n",
       "      <td>0</td>\n",
       "      <td>0</td>\n",
       "      <td>1</td>\n",
       "    </tr>\n",
       "    <tr>\n",
       "      <th>4</th>\n",
       "      <td>0</td>\n",
       "      <td>0</td>\n",
       "      <td>1</td>\n",
       "    </tr>\n",
       "  </tbody>\n",
       "</table>\n",
       "</div>"
      ],
      "text/plain": [
       "   slo_0  slo_1  slo_2\n",
       "0      0      0      1\n",
       "1      0      0      1\n",
       "2      0      0      1\n",
       "3      0      0      1\n",
       "4      0      0      1"
      ]
     },
     "execution_count": 92,
     "metadata": {},
     "output_type": "execute_result"
    }
   ],
   "source": [
    "df_activ.head()"
   ]
  },
  {
   "cell_type": "markdown",
   "metadata": {
    "collapsed": true
   },
   "source": [
    "## Start from here: Labeled data set"
   ]
  },
  {
   "cell_type": "code",
   "execution_count": 93,
   "metadata": {},
   "outputs": [
    {
     "data": {
      "text/html": [
       "<div>\n",
       "<style scoped>\n",
       "    .dataframe tbody tr th:only-of-type {\n",
       "        vertical-align: middle;\n",
       "    }\n",
       "\n",
       "    .dataframe tbody tr th {\n",
       "        vertical-align: top;\n",
       "    }\n",
       "\n",
       "    .dataframe thead th {\n",
       "        text-align: right;\n",
       "    }\n",
       "</style>\n",
       "<table border=\"1\" class=\"dataframe\">\n",
       "  <thead>\n",
       "    <tr style=\"text-align: right;\">\n",
       "      <th></th>\n",
       "      <th>ellis-cpu.idle_perc</th>\n",
       "      <th>ralf-load.avg_15_min</th>\n",
       "      <th>bono-net.in_errors_sec</th>\n",
       "      <th>homer-net.out_bytes_sec</th>\n",
       "      <th>ellis-io.write_req_sec</th>\n",
       "      <th>homer-mem.total_mb</th>\n",
       "      <th>homestead-load.avg_1_min</th>\n",
       "      <th>homer-load.avg_1_min</th>\n",
       "      <th>sprout-cpu.stolen_perc</th>\n",
       "      <th>ralf-cpu.idle_perc</th>\n",
       "      <th>...</th>\n",
       "      <th>sprout-net.in_packets_dropped_sec</th>\n",
       "      <th>ralf-cpu.system_perc</th>\n",
       "      <th>ralf-mem.free_mb</th>\n",
       "      <th>bono-io.read_req_sec</th>\n",
       "      <th>bono-net.in_packets_sec</th>\n",
       "      <th>homestead-cpu.wait_perc</th>\n",
       "      <th>ellis-load.avg_1_min</th>\n",
       "      <th>slo_0</th>\n",
       "      <th>slo_1</th>\n",
       "      <th>slo_2</th>\n",
       "    </tr>\n",
       "  </thead>\n",
       "  <tbody>\n",
       "    <tr>\n",
       "      <th>0</th>\n",
       "      <td>7.15566</td>\n",
       "      <td>6.02473</td>\n",
       "      <td>1</td>\n",
       "      <td>2.9567</td>\n",
       "      <td>1.48758</td>\n",
       "      <td>1</td>\n",
       "      <td>1.49388</td>\n",
       "      <td>5.05236</td>\n",
       "      <td>1</td>\n",
       "      <td>8.51734</td>\n",
       "      <td>...</td>\n",
       "      <td>1</td>\n",
       "      <td>1.27411</td>\n",
       "      <td>7.51346</td>\n",
       "      <td>1</td>\n",
       "      <td>1.1727</td>\n",
       "      <td>4.20745</td>\n",
       "      <td>7.03488</td>\n",
       "      <td>0</td>\n",
       "      <td>0</td>\n",
       "      <td>1</td>\n",
       "    </tr>\n",
       "    <tr>\n",
       "      <th>1</th>\n",
       "      <td>7.72878</td>\n",
       "      <td>6.34276</td>\n",
       "      <td>1</td>\n",
       "      <td>2.94612</td>\n",
       "      <td>1.50086</td>\n",
       "      <td>1</td>\n",
       "      <td>1.36707</td>\n",
       "      <td>3.45026</td>\n",
       "      <td>1</td>\n",
       "      <td>8.58237</td>\n",
       "      <td>...</td>\n",
       "      <td>1</td>\n",
       "      <td>1.27411</td>\n",
       "      <td>7.50855</td>\n",
       "      <td>1</td>\n",
       "      <td>1.17308</td>\n",
       "      <td>3.05851</td>\n",
       "      <td>7.24419</td>\n",
       "      <td>0</td>\n",
       "      <td>0</td>\n",
       "      <td>1</td>\n",
       "    </tr>\n",
       "    <tr>\n",
       "      <th>2</th>\n",
       "      <td>7.41038</td>\n",
       "      <td>6.50177</td>\n",
       "      <td>1</td>\n",
       "      <td>2.96211</td>\n",
       "      <td>1.49064</td>\n",
       "      <td>1</td>\n",
       "      <td>1.3871</td>\n",
       "      <td>2.79058</td>\n",
       "      <td>1</td>\n",
       "      <td>8.51734</td>\n",
       "      <td>...</td>\n",
       "      <td>1</td>\n",
       "      <td>1.3198</td>\n",
       "      <td>7.51182</td>\n",
       "      <td>1</td>\n",
       "      <td>1.17337</td>\n",
       "      <td>2.7234</td>\n",
       "      <td>6.30233</td>\n",
       "      <td>0</td>\n",
       "      <td>0</td>\n",
       "      <td>1</td>\n",
       "    </tr>\n",
       "    <tr>\n",
       "      <th>3</th>\n",
       "      <td>7.17689</td>\n",
       "      <td>6.44876</td>\n",
       "      <td>1</td>\n",
       "      <td>2.9509</td>\n",
       "      <td>1.48351</td>\n",
       "      <td>1</td>\n",
       "      <td>1.27364</td>\n",
       "      <td>2.64921</td>\n",
       "      <td>1</td>\n",
       "      <td>8.63439</td>\n",
       "      <td>...</td>\n",
       "      <td>1</td>\n",
       "      <td>1.22843</td>\n",
       "      <td>7.50036</td>\n",
       "      <td>1</td>\n",
       "      <td>1.17027</td>\n",
       "      <td>2.7234</td>\n",
       "      <td>5.98837</td>\n",
       "      <td>0</td>\n",
       "      <td>0</td>\n",
       "      <td>1</td>\n",
       "    </tr>\n",
       "    <tr>\n",
       "      <th>4</th>\n",
       "      <td>7.3467</td>\n",
       "      <td>6.50177</td>\n",
       "      <td>1</td>\n",
       "      <td>2.95498</td>\n",
       "      <td>1.48351</td>\n",
       "      <td>1</td>\n",
       "      <td>1.23359</td>\n",
       "      <td>2.69634</td>\n",
       "      <td>1</td>\n",
       "      <td>8.32226</td>\n",
       "      <td>...</td>\n",
       "      <td>1</td>\n",
       "      <td>1.36548</td>\n",
       "      <td>7.502</td>\n",
       "      <td>1</td>\n",
       "      <td>1.1826</td>\n",
       "      <td>2.67553</td>\n",
       "      <td>6.02326</td>\n",
       "      <td>0</td>\n",
       "      <td>0</td>\n",
       "      <td>1</td>\n",
       "    </tr>\n",
       "  </tbody>\n",
       "</table>\n",
       "<p>5 rows × 159 columns</p>\n",
       "</div>"
      ],
      "text/plain": [
       "  ellis-cpu.idle_perc ralf-load.avg_15_min bono-net.in_errors_sec  \\\n",
       "0             7.15566              6.02473                      1   \n",
       "1             7.72878              6.34276                      1   \n",
       "2             7.41038              6.50177                      1   \n",
       "3             7.17689              6.44876                      1   \n",
       "4              7.3467              6.50177                      1   \n",
       "\n",
       "  homer-net.out_bytes_sec ellis-io.write_req_sec homer-mem.total_mb  \\\n",
       "0                  2.9567                1.48758                  1   \n",
       "1                 2.94612                1.50086                  1   \n",
       "2                 2.96211                1.49064                  1   \n",
       "3                  2.9509                1.48351                  1   \n",
       "4                 2.95498                1.48351                  1   \n",
       "\n",
       "  homestead-load.avg_1_min homer-load.avg_1_min sprout-cpu.stolen_perc  \\\n",
       "0                  1.49388              5.05236                      1   \n",
       "1                  1.36707              3.45026                      1   \n",
       "2                   1.3871              2.79058                      1   \n",
       "3                  1.27364              2.64921                      1   \n",
       "4                  1.23359              2.69634                      1   \n",
       "\n",
       "  ralf-cpu.idle_perc  ...  sprout-net.in_packets_dropped_sec  \\\n",
       "0            8.51734  ...                                  1   \n",
       "1            8.58237  ...                                  1   \n",
       "2            8.51734  ...                                  1   \n",
       "3            8.63439  ...                                  1   \n",
       "4            8.32226  ...                                  1   \n",
       "\n",
       "  ralf-cpu.system_perc ralf-mem.free_mb bono-io.read_req_sec  \\\n",
       "0              1.27411          7.51346                    1   \n",
       "1              1.27411          7.50855                    1   \n",
       "2               1.3198          7.51182                    1   \n",
       "3              1.22843          7.50036                    1   \n",
       "4              1.36548            7.502                    1   \n",
       "\n",
       "  bono-net.in_packets_sec homestead-cpu.wait_perc ellis-load.avg_1_min slo_0  \\\n",
       "0                  1.1727                 4.20745              7.03488     0   \n",
       "1                 1.17308                 3.05851              7.24419     0   \n",
       "2                 1.17337                  2.7234              6.30233     0   \n",
       "3                 1.17027                  2.7234              5.98837     0   \n",
       "4                  1.1826                 2.67553              6.02326     0   \n",
       "\n",
       "  slo_1 slo_2  \n",
       "0     0     1  \n",
       "1     0     1  \n",
       "2     0     1  \n",
       "3     0     1  \n",
       "4     0     1  \n",
       "\n",
       "[5 rows x 159 columns]"
      ]
     },
     "execution_count": 93,
     "metadata": {},
     "output_type": "execute_result"
    }
   ],
   "source": [
    "dframe.head()"
   ]
  },
  {
   "cell_type": "code",
   "execution_count": 94,
   "metadata": {},
   "outputs": [],
   "source": [
    "df_reduced_4 = pd.concat([df_reduced_4, df_activ], axis=1)"
   ]
  },
  {
   "cell_type": "code",
   "execution_count": 95,
   "metadata": {},
   "outputs": [
    {
     "data": {
      "text/html": [
       "<div>\n",
       "<style scoped>\n",
       "    .dataframe tbody tr th:only-of-type {\n",
       "        vertical-align: middle;\n",
       "    }\n",
       "\n",
       "    .dataframe tbody tr th {\n",
       "        vertical-align: top;\n",
       "    }\n",
       "\n",
       "    .dataframe thead th {\n",
       "        text-align: right;\n",
       "    }\n",
       "</style>\n",
       "<table border=\"1\" class=\"dataframe\">\n",
       "  <thead>\n",
       "    <tr style=\"text-align: right;\">\n",
       "      <th></th>\n",
       "      <th>0</th>\n",
       "      <th>1</th>\n",
       "      <th>2</th>\n",
       "      <th>slo_0</th>\n",
       "      <th>slo_1</th>\n",
       "      <th>slo_2</th>\n",
       "    </tr>\n",
       "  </thead>\n",
       "  <tbody>\n",
       "    <tr>\n",
       "      <th>0</th>\n",
       "      <td>26.775347</td>\n",
       "      <td>5.038072</td>\n",
       "      <td>2.996740</td>\n",
       "      <td>0</td>\n",
       "      <td>0</td>\n",
       "      <td>1</td>\n",
       "    </tr>\n",
       "    <tr>\n",
       "      <th>1</th>\n",
       "      <td>26.804121</td>\n",
       "      <td>5.053094</td>\n",
       "      <td>2.937337</td>\n",
       "      <td>0</td>\n",
       "      <td>0</td>\n",
       "      <td>1</td>\n",
       "    </tr>\n",
       "    <tr>\n",
       "      <th>2</th>\n",
       "      <td>26.070286</td>\n",
       "      <td>4.881083</td>\n",
       "      <td>2.775746</td>\n",
       "      <td>0</td>\n",
       "      <td>0</td>\n",
       "      <td>1</td>\n",
       "    </tr>\n",
       "    <tr>\n",
       "      <th>3</th>\n",
       "      <td>26.027075</td>\n",
       "      <td>4.866511</td>\n",
       "      <td>2.744335</td>\n",
       "      <td>0</td>\n",
       "      <td>0</td>\n",
       "      <td>1</td>\n",
       "    </tr>\n",
       "    <tr>\n",
       "      <th>4</th>\n",
       "      <td>26.368492</td>\n",
       "      <td>4.950315</td>\n",
       "      <td>2.867317</td>\n",
       "      <td>0</td>\n",
       "      <td>0</td>\n",
       "      <td>1</td>\n",
       "    </tr>\n",
       "  </tbody>\n",
       "</table>\n",
       "</div>"
      ],
      "text/plain": [
       "           0         1         2  slo_0  slo_1  slo_2\n",
       "0  26.775347  5.038072  2.996740      0      0      1\n",
       "1  26.804121  5.053094  2.937337      0      0      1\n",
       "2  26.070286  4.881083  2.775746      0      0      1\n",
       "3  26.027075  4.866511  2.744335      0      0      1\n",
       "4  26.368492  4.950315  2.867317      0      0      1"
      ]
     },
     "execution_count": 95,
     "metadata": {},
     "output_type": "execute_result"
    }
   ],
   "source": [
    "df_reduced_4.head()"
   ]
  },
  {
   "cell_type": "code",
   "execution_count": 96,
   "metadata": {},
   "outputs": [],
   "source": [
    "X_train, X_test, y_train, y_test = dframe.iloc[0:80,0:156].values,dframe.iloc[80:,0:156].values,dframe.iloc[0:80,156:].values,dframe.iloc[80:,156:].values "
   ]
  },
  {
   "cell_type": "code",
   "execution_count": 97,
   "metadata": {},
   "outputs": [],
   "source": [
    "from keras.models import Sequential\n",
    "from keras.layers import Dense, Activation\n",
    "from sklearn.metrics import confusion_matrix, classification_report\n",
    "from keras.callbacks import TensorBoard\n",
    "\n",
    "import time"
   ]
  },
  {
   "cell_type": "code",
   "execution_count": 98,
   "metadata": {},
   "outputs": [
    {
     "data": {
      "text/plain": [
       "(80, 156)"
      ]
     },
     "execution_count": 98,
     "metadata": {},
     "output_type": "execute_result"
    }
   ],
   "source": [
    "y_train.shape\n",
    "X_train.shape"
   ]
  },
  {
   "cell_type": "code",
   "execution_count": 99,
   "metadata": {},
   "outputs": [],
   "source": [
    "model = Sequential([\n",
    "    Dense(50, input_shape=(156,)),\n",
    "    Activation('sigmoid'),\n",
    "    Dense(60),\n",
    "    Activation('relu'),\n",
    "    Dense(3),\n",
    "    Activation('softmax'),\n",
    "])"
   ]
  },
  {
   "cell_type": "code",
   "execution_count": 100,
   "metadata": {},
   "outputs": [],
   "source": [
    "#help(K.clip)"
   ]
  },
  {
   "cell_type": "code",
   "execution_count": 101,
   "metadata": {},
   "outputs": [],
   "source": [
    "# For custom metrics\n",
    "import keras.backend as K\n",
    "\n",
    "def precision(y_true, y_pred):\n",
    "    \"\"\"Precision metric.\n",
    "\n",
    "    Only computes a batch-wise average of precision.\n",
    "\n",
    "    Computes the precision, a metric for multi-label classification of\n",
    "    how many selected items are relevant.\n",
    "    \"\"\"\n",
    "    true_positives = K.sum(K.round(K.clip(y_true * y_pred, 0, 1)))\n",
    "    predicted_positives = K.sum(K.round(K.clip(y_pred, 0, 1)))\n",
    "    precision = true_positives / (predicted_positives + K.epsilon())\n",
    "    return precision\n",
    "\n",
    "\n",
    "def recall(y_true, y_pred):\n",
    "    \"\"\"Recall metric.\n",
    "\n",
    "    Only computes a batch-wise average of recall.\n",
    "\n",
    "    Computes the recall, a metric for multi-label classification of\n",
    "    how many relevant items are selected.\n",
    "    \"\"\"\n",
    "    true_positives = K.sum(K.round(K.clip(y_true * y_pred, 0, 1)))\n",
    "    possible_positives = K.sum(K.round(K.clip(y_true, 0, 1)))\n",
    "    recall = true_positives / (possible_positives + K.epsilon())\n",
    "    return recall\n",
    "\n",
    "\n",
    "def fbeta_score(y_true, y_pred, beta=0.2):\n",
    "    \"\"\"Computes the F score.\n",
    "\n",
    "    The F score is the weighted harmonic mean of precision and recall.\n",
    "    Here it is only computed as a batch-wise average, not globally.\n",
    "\n",
    "    This is useful for multi-label classification, where input samples can be\n",
    "    classified as sets of labels. By only using accuracy (precision) a model\n",
    "    would achieve a perfect score by simply assigning every class to every\n",
    "    input. In order to avoid this, a metric should penalize incorrect class\n",
    "    assignments as well (recall). The F-beta score (ranged from 0.0 to 1.0)\n",
    "    computes this, as a weighted mean of the proportion of correct class\n",
    "    assignments vs. the proportion of incorrect class assignments.\n",
    "\n",
    "    With beta = 1, this is equivalent to a F-measure. With beta < 1, assigning\n",
    "    correct classes becomes more important, and with beta > 1 the metric is\n",
    "    instead weighted towards penalizing incorrect class assignments.\n",
    "    \"\"\"\n",
    "    if beta < 0:\n",
    "        raise ValueError('The lowest choosable beta is zero (only precision).')\n",
    "\n",
    "    # If there are no true positives, fix the F score at 0 like sklearn.\n",
    "    if K.sum(K.round(K.clip(y_true, 0, 1))) == 0:\n",
    "        return 0\n",
    "\n",
    "    p = precision(y_true, y_pred)\n",
    "    r = recall(y_true, y_pred)\n",
    "    bb = beta ** 2\n",
    "    fbeta_score = (1 + bb) * (p * r) / (bb * p + r + K.epsilon())\n",
    "    return fbeta_score\n",
    "\n",
    "\n",
    "def fmeasure(y_true, y_pred):\n",
    "    \"\"\"Computes the f-measure, the harmonic mean of precision and recall.\n",
    "\n",
    "    Here it is only computed as a batch-wise average, not globally.\n",
    "    \"\"\"\n",
    "    return fbeta_score(y_true, y_pred, beta=1)\n"
   ]
  },
  {
   "cell_type": "code",
   "execution_count": 102,
   "metadata": {},
   "outputs": [],
   "source": [
    "# For a multi-class classification problem\n",
    "model.compile(optimizer='rmsprop',\n",
    "              loss='categorical_crossentropy',\n",
    "              metrics=['accuracy',precision, recall, fbeta_score, fmeasure,'mse', 'mae', 'mape', 'cosine'])"
   ]
  },
  {
   "cell_type": "code",
   "execution_count": 103,
   "metadata": {
    "scrolled": false
   },
   "outputs": [
    {
     "data": {
      "text/plain": [
       "<keras.callbacks.History at 0x7f05b34d48d0>"
      ]
     },
     "execution_count": 103,
     "metadata": {},
     "output_type": "execute_result"
    }
   ],
   "source": [
    "tensorboard = TensorBoard(log_dir=\"logs/{}\".format('test_'+str(time.time())))\n",
    "# Train the model, iterating on the data in batches of 32 samples\n",
    "model.fit(X_train, y_train, nb_epoch=200, batch_size=32, callbacks=[\n",
    "                              tensorboard], verbose=0)"
   ]
  },
  {
   "cell_type": "code",
   "execution_count": 104,
   "metadata": {},
   "outputs": [],
   "source": [
    "y_predict_class = model.predict_classes(X_test)"
   ]
  },
  {
   "cell_type": "code",
   "execution_count": 105,
   "metadata": {},
   "outputs": [
    {
     "data": {
      "text/plain": [
       "['accuracy',\n",
       " <function __main__.precision(y_true, y_pred)>,\n",
       " <function __main__.recall(y_true, y_pred)>,\n",
       " <function __main__.fbeta_score(y_true, y_pred, beta=0.2)>,\n",
       " <function __main__.fmeasure(y_true, y_pred)>,\n",
       " 'mse',\n",
       " 'mae',\n",
       " 'mape',\n",
       " 'cosine']"
      ]
     },
     "execution_count": 105,
     "metadata": {},
     "output_type": "execute_result"
    }
   ],
   "source": [
    "model.metrics"
   ]
  },
  {
   "cell_type": "code",
   "execution_count": 106,
   "metadata": {},
   "outputs": [
    {
     "data": {
      "text/plain": [
       "array([[5.5354963e-08, 3.1045932e-08, 9.9999988e-01],\n",
       "       [5.5138315e-08, 3.1123363e-08, 9.9999988e-01],\n",
       "       [5.4787751e-08, 3.1011783e-08, 9.9999988e-01],\n",
       "       ...,\n",
       "       [1.0757860e-07, 6.0403934e-08, 9.9999988e-01],\n",
       "       [1.0571881e-07, 5.9526471e-08, 9.9999988e-01],\n",
       "       [1.0663438e-07, 6.0259865e-08, 9.9999988e-01]], dtype=float32)"
      ]
     },
     "execution_count": 106,
     "metadata": {},
     "output_type": "execute_result"
    }
   ],
   "source": [
    "model.predict_proba(X_test)"
   ]
  },
  {
   "cell_type": "markdown",
   "metadata": {},
   "source": [
    "## np.argwhere(y_test)[:,1]"
   ]
  },
  {
   "cell_type": "code",
   "execution_count": 107,
   "metadata": {},
   "outputs": [
    {
     "name": "stdout",
     "output_type": "stream",
     "text": [
      "[2 2 2 ... 2 2 2]\n"
     ]
    }
   ],
   "source": [
    "print (y_predict_class)"
   ]
  },
  {
   "cell_type": "code",
   "execution_count": 108,
   "metadata": {},
   "outputs": [
    {
     "name": "stdout",
     "output_type": "stream",
     "text": [
      "             precision    recall  f1-score   support\n",
      "\n",
      "          0       0.00      0.00      0.00     76399\n",
      "          1       0.00      0.00      0.00     90606\n",
      "          2       0.06      1.00      0.11      9915\n",
      "\n",
      "avg / total       0.00      0.06      0.01    176920\n",
      "\n",
      "[[    0     0 76399]\n",
      " [    0     0 90606]\n",
      " [    0     0  9915]]\n"
     ]
    },
    {
     "name": "stderr",
     "output_type": "stream",
     "text": [
      "/home/imen/data-science/TNSM-master/venv/lib/python3.6/site-packages/sklearn/metrics/classification.py:1135: UndefinedMetricWarning: Precision and F-score are ill-defined and being set to 0.0 in labels with no predicted samples.\n",
      "  'precision', 'predicted', average, warn_for)\n"
     ]
    }
   ],
   "source": [
    "report = classification_report(np.argwhere(y_test)[:,1],y_predict_class)#np.any(y_test_small, axis=1), predicted)\n",
    "print(report)\n",
    "cm = confusion_matrix(np.argwhere(y_test)[:,1],y_predict_class)#np.any(y_test_small, axis=1), predicted)\n",
    "print(cm)"
   ]
  },
  {
   "cell_type": "code",
   "execution_count": 109,
   "metadata": {},
   "outputs": [
    {
     "data": {
      "text/plain": [
       "array([[0, 0, 1],\n",
       "       [0, 0, 1],\n",
       "       [0, 0, 1],\n",
       "       ...,\n",
       "       [0, 1, 0],\n",
       "       [0, 1, 0],\n",
       "       [0, 1, 0]], dtype=uint8)"
      ]
     },
     "execution_count": 109,
     "metadata": {},
     "output_type": "execute_result"
    }
   ],
   "source": [
    "y_test"
   ]
  },
  {
   "cell_type": "code",
   "execution_count": 110,
   "metadata": {},
   "outputs": [
    {
     "data": {
      "text/plain": [
       "{2}"
      ]
     },
     "execution_count": 110,
     "metadata": {},
     "output_type": "execute_result"
    }
   ],
   "source": [
    "set(y_predict_class)"
   ]
  },
  {
   "cell_type": "code",
   "execution_count": 111,
   "metadata": {},
   "outputs": [
    {
     "data": {
      "text/plain": [
       "array([2, 2, 2, 2, 2, 2, 2, 2, 2, 2])"
      ]
     },
     "execution_count": 111,
     "metadata": {},
     "output_type": "execute_result"
    }
   ],
   "source": [
    "#y_test[0]\n",
    "np.argwhere(y_test)[0:10,1]"
   ]
  },
  {
   "cell_type": "code",
   "execution_count": 112,
   "metadata": {},
   "outputs": [
    {
     "data": {
      "text/plain": [
       "array([[0, 0, 1],\n",
       "       [0, 0, 1],\n",
       "       [0, 0, 1],\n",
       "       ...,\n",
       "       [0, 1, 0],\n",
       "       [0, 1, 0],\n",
       "       [0, 1, 0]], dtype=uint8)"
      ]
     },
     "execution_count": 112,
     "metadata": {},
     "output_type": "execute_result"
    }
   ],
   "source": [
    "y_test"
   ]
  },
  {
   "cell_type": "code",
   "execution_count": 113,
   "metadata": {},
   "outputs": [
    {
     "name": "stdout",
     "output_type": "stream",
     "text": [
      "             precision    recall  f1-score   support\n",
      "\n",
      "          0       0.00      0.00      0.00     76399\n",
      "          1       0.00      0.00      0.00     90606\n",
      "          2       0.06      1.00      0.11      9915\n",
      "\n",
      "avg / total       0.00      0.06      0.01    176920\n",
      "\n",
      "[[    0     0 76399]\n",
      " [    0     0 90606]\n",
      " [    0     0  9915]]\n",
      "Normalized confusion matrix\n",
      "[[0. 0. 1.]\n",
      " [0. 0. 1.]\n",
      " [0. 0. 1.]]\n"
     ]
    },
    {
     "data": {
      "image/png": "[encoded data removed]",
      "text/plain": [
       "<Figure size 432x288 with 2 Axes>"
      ]
     },
     "metadata": {},
     "output_type": "display_data"
    }
   ],
   "source": [
    "import itertools\n",
    "y_predict_class = model.predict_classes(X_test)\n",
    "report = classification_report(np.argwhere(y_test)[:,1],y_predict_class)#np.any(y_test_small, axis=1), predicted)\n",
    "print(report)\n",
    "cm = confusion_matrix(np.argwhere(y_test)[:,1],y_predict_class)#np.any(y_test_small, axis=1), predicted)\n",
    "print(cm)\n",
    "\n",
    "\n",
    "def plot_confusion_matrix(cm, classes,\n",
    "                          normalize=False,\n",
    "                          title='Confusion matrix',\n",
    "                          cmap=plt.cm.Blues):\n",
    "    \"\"\"\n",
    "    This function prints and plots the confusion matrix.\n",
    "    Normalization can be applied by setting `normalize=True`.\n",
    "    \"\"\"\n",
    "    if normalize:\n",
    "        cm = cm.astype('float') / cm.sum(axis=1)[:, np.newaxis]\n",
    "        print(\"Normalized confusion matrix\")\n",
    "    else:\n",
    "        print('Confusion matrix, without normalization')\n",
    "\n",
    "    print(cm)\n",
    "\n",
    "    plt.imshow(cm, interpolation='nearest', cmap=cmap)\n",
    "    plt.title(title)\n",
    "    plt.colorbar()\n",
    "    tick_marks = np.arange(len(classes))\n",
    "    plt.xticks(tick_marks, classes, rotation=45)\n",
    "    plt.yticks(tick_marks, classes)\n",
    "\n",
    "    fmt = '.2f' if normalize else 'd'\n",
    "    thresh = cm.max() / 2.\n",
    "    for i, j in itertools.product(range(cm.shape[0]), range(cm.shape[1])):\n",
    "        plt.text(j, i, format(cm[i, j], fmt),\n",
    "                 horizontalalignment=\"center\",\n",
    "                 color=\"white\" if cm[i, j] > thresh else \"black\")\n",
    "\n",
    "    plt.tight_layout()\n",
    "    plt.ylabel('True label')\n",
    "    plt.xlabel('Predicted label')\n",
    "\n",
    "# Compute confusion matrix\n",
    "cnf_matrix = cm\n",
    "np.set_printoptions(precision=2)\n",
    "\n",
    "# Plot non-normalized confusion matrix\n",
    "\n",
    "# Plot normalized confusion matrix\n",
    "plt.figure()\n",
    "\n",
    "class_names=[\"$SLO_1$\",\"$SLO_2$\",\"$SLO_3$\"]\n",
    "plot_confusion_matrix(cnf_matrix, classes=class_names, normalize=True,\n",
    "                      title='Normalized confusion matrix')\n",
    "\n",
    "plt.show()"
   ]
  },
  {
   "cell_type": "code",
   "execution_count": 114,
   "metadata": {},
   "outputs": [
    {
     "data": {
      "text/html": [
       "<div>\n",
       "<style scoped>\n",
       "    .dataframe tbody tr th:only-of-type {\n",
       "        vertical-align: middle;\n",
       "    }\n",
       "\n",
       "    .dataframe tbody tr th {\n",
       "        vertical-align: top;\n",
       "    }\n",
       "\n",
       "    .dataframe thead th {\n",
       "        text-align: right;\n",
       "    }\n",
       "</style>\n",
       "<table border=\"1\" class=\"dataframe\">\n",
       "  <thead>\n",
       "    <tr style=\"text-align: right;\">\n",
       "      <th></th>\n",
       "      <th>ellis-cpu.idle_perc</th>\n",
       "      <th>ralf-load.avg_15_min</th>\n",
       "      <th>bono-net.in_errors_sec</th>\n",
       "      <th>homer-net.out_bytes_sec</th>\n",
       "      <th>ellis-io.write_req_sec</th>\n",
       "      <th>homer-mem.total_mb</th>\n",
       "      <th>homestead-load.avg_1_min</th>\n",
       "      <th>homer-load.avg_1_min</th>\n",
       "      <th>sprout-cpu.stolen_perc</th>\n",
       "      <th>ralf-cpu.idle_perc</th>\n",
       "      <th>...</th>\n",
       "      <th>sprout-net.in_errors_sec</th>\n",
       "      <th>ellis-disk.space_used_perc</th>\n",
       "      <th>sprout-net.out_packets_sec</th>\n",
       "      <th>sprout-net.in_packets_dropped_sec</th>\n",
       "      <th>ralf-cpu.system_perc</th>\n",
       "      <th>ralf-mem.free_mb</th>\n",
       "      <th>bono-io.read_req_sec</th>\n",
       "      <th>bono-net.in_packets_sec</th>\n",
       "      <th>homestead-cpu.wait_perc</th>\n",
       "      <th>ellis-load.avg_1_min</th>\n",
       "    </tr>\n",
       "  </thead>\n",
       "  <tbody>\n",
       "    <tr>\n",
       "      <th>0</th>\n",
       "      <td>7.15566</td>\n",
       "      <td>6.02473</td>\n",
       "      <td>1</td>\n",
       "      <td>2.9567</td>\n",
       "      <td>1.48758</td>\n",
       "      <td>1</td>\n",
       "      <td>1.49388</td>\n",
       "      <td>5.05236</td>\n",
       "      <td>1</td>\n",
       "      <td>8.51734</td>\n",
       "      <td>...</td>\n",
       "      <td>1</td>\n",
       "      <td>1.64286</td>\n",
       "      <td>1.44158</td>\n",
       "      <td>1</td>\n",
       "      <td>1.27411</td>\n",
       "      <td>7.51346</td>\n",
       "      <td>1</td>\n",
       "      <td>1.1727</td>\n",
       "      <td>4.20745</td>\n",
       "      <td>7.03488</td>\n",
       "    </tr>\n",
       "    <tr>\n",
       "      <th>1</th>\n",
       "      <td>7.72878</td>\n",
       "      <td>6.34276</td>\n",
       "      <td>1</td>\n",
       "      <td>2.94612</td>\n",
       "      <td>1.50086</td>\n",
       "      <td>1</td>\n",
       "      <td>1.36707</td>\n",
       "      <td>3.45026</td>\n",
       "      <td>1</td>\n",
       "      <td>8.58237</td>\n",
       "      <td>...</td>\n",
       "      <td>1</td>\n",
       "      <td>1.64286</td>\n",
       "      <td>1.42825</td>\n",
       "      <td>1</td>\n",
       "      <td>1.27411</td>\n",
       "      <td>7.50855</td>\n",
       "      <td>1</td>\n",
       "      <td>1.17308</td>\n",
       "      <td>3.05851</td>\n",
       "      <td>7.24419</td>\n",
       "    </tr>\n",
       "    <tr>\n",
       "      <th>2</th>\n",
       "      <td>7.41038</td>\n",
       "      <td>6.50177</td>\n",
       "      <td>1</td>\n",
       "      <td>2.96211</td>\n",
       "      <td>1.49064</td>\n",
       "      <td>1</td>\n",
       "      <td>1.3871</td>\n",
       "      <td>2.79058</td>\n",
       "      <td>1</td>\n",
       "      <td>8.51734</td>\n",
       "      <td>...</td>\n",
       "      <td>1</td>\n",
       "      <td>1.64286</td>\n",
       "      <td>1.4409</td>\n",
       "      <td>1</td>\n",
       "      <td>1.3198</td>\n",
       "      <td>7.51182</td>\n",
       "      <td>1</td>\n",
       "      <td>1.17337</td>\n",
       "      <td>2.7234</td>\n",
       "      <td>6.30233</td>\n",
       "    </tr>\n",
       "    <tr>\n",
       "      <th>3</th>\n",
       "      <td>7.17689</td>\n",
       "      <td>6.44876</td>\n",
       "      <td>1</td>\n",
       "      <td>2.9509</td>\n",
       "      <td>1.48351</td>\n",
       "      <td>1</td>\n",
       "      <td>1.27364</td>\n",
       "      <td>2.64921</td>\n",
       "      <td>1</td>\n",
       "      <td>8.63439</td>\n",
       "      <td>...</td>\n",
       "      <td>1</td>\n",
       "      <td>1.64286</td>\n",
       "      <td>1.42667</td>\n",
       "      <td>1</td>\n",
       "      <td>1.22843</td>\n",
       "      <td>7.50036</td>\n",
       "      <td>1</td>\n",
       "      <td>1.17027</td>\n",
       "      <td>2.7234</td>\n",
       "      <td>5.98837</td>\n",
       "    </tr>\n",
       "    <tr>\n",
       "      <th>4</th>\n",
       "      <td>7.3467</td>\n",
       "      <td>6.50177</td>\n",
       "      <td>1</td>\n",
       "      <td>2.95498</td>\n",
       "      <td>1.48351</td>\n",
       "      <td>1</td>\n",
       "      <td>1.23359</td>\n",
       "      <td>2.69634</td>\n",
       "      <td>1</td>\n",
       "      <td>8.32226</td>\n",
       "      <td>...</td>\n",
       "      <td>1</td>\n",
       "      <td>1.64286</td>\n",
       "      <td>1.44135</td>\n",
       "      <td>1</td>\n",
       "      <td>1.36548</td>\n",
       "      <td>7.502</td>\n",
       "      <td>1</td>\n",
       "      <td>1.1826</td>\n",
       "      <td>2.67553</td>\n",
       "      <td>6.02326</td>\n",
       "    </tr>\n",
       "    <tr>\n",
       "      <th>5</th>\n",
       "      <td>7.75</td>\n",
       "      <td>6.66078</td>\n",
       "      <td>1</td>\n",
       "      <td>2.95011</td>\n",
       "      <td>1.49982</td>\n",
       "      <td>1</td>\n",
       "      <td>1.14016</td>\n",
       "      <td>2.03665</td>\n",
       "      <td>1</td>\n",
       "      <td>8.38728</td>\n",
       "      <td>...</td>\n",
       "      <td>1</td>\n",
       "      <td>1.64286</td>\n",
       "      <td>1.43118</td>\n",
       "      <td>1</td>\n",
       "      <td>1.3198</td>\n",
       "      <td>7.51346</td>\n",
       "      <td>1</td>\n",
       "      <td>1.18172</td>\n",
       "      <td>2.67553</td>\n",
       "      <td>4.80233</td>\n",
       "    </tr>\n",
       "    <tr>\n",
       "      <th>6</th>\n",
       "      <td>7.55896</td>\n",
       "      <td>6.81979</td>\n",
       "      <td>1</td>\n",
       "      <td>2.94821</td>\n",
       "      <td>1.4978</td>\n",
       "      <td>1</td>\n",
       "      <td>1.08676</td>\n",
       "      <td>1.89529</td>\n",
       "      <td>1</td>\n",
       "      <td>8.58237</td>\n",
       "      <td>...</td>\n",
       "      <td>1</td>\n",
       "      <td>1.64286</td>\n",
       "      <td>1.43638</td>\n",
       "      <td>1</td>\n",
       "      <td>1.27411</td>\n",
       "      <td>7.51346</td>\n",
       "      <td>1</td>\n",
       "      <td>1.17833</td>\n",
       "      <td>3.10638</td>\n",
       "      <td>4.27907</td>\n",
       "    </tr>\n",
       "    <tr>\n",
       "      <th>7</th>\n",
       "      <td>6.83726</td>\n",
       "      <td>6.92579</td>\n",
       "      <td>1</td>\n",
       "      <td>2.93452</td>\n",
       "      <td>1.45496</td>\n",
       "      <td>1</td>\n",
       "      <td>1.16018</td>\n",
       "      <td>2.31937</td>\n",
       "      <td>1</td>\n",
       "      <td>8.30925</td>\n",
       "      <td>...</td>\n",
       "      <td>1</td>\n",
       "      <td>1.64286</td>\n",
       "      <td>1.42644</td>\n",
       "      <td>1</td>\n",
       "      <td>1.22843</td>\n",
       "      <td>7.5151</td>\n",
       "      <td>1</td>\n",
       "      <td>1.1792</td>\n",
       "      <td>3.87234</td>\n",
       "      <td>2.98837</td>\n",
       "    </tr>\n",
       "    <tr>\n",
       "      <th>8</th>\n",
       "      <td>6.75236</td>\n",
       "      <td>7.13781</td>\n",
       "      <td>1</td>\n",
       "      <td>2.95551</td>\n",
       "      <td>1.46821</td>\n",
       "      <td>1</td>\n",
       "      <td>1.09344</td>\n",
       "      <td>1.80105</td>\n",
       "      <td>1</td>\n",
       "      <td>8.10116</td>\n",
       "      <td>...</td>\n",
       "      <td>1</td>\n",
       "      <td>1.64286</td>\n",
       "      <td>1.44383</td>\n",
       "      <td>1</td>\n",
       "      <td>1.3198</td>\n",
       "      <td>7.5151</td>\n",
       "      <td>1</td>\n",
       "      <td>1.18405</td>\n",
       "      <td>2.96277</td>\n",
       "      <td>3.75581</td>\n",
       "    </tr>\n",
       "    <tr>\n",
       "      <th>9</th>\n",
       "      <td>6.56132</td>\n",
       "      <td>7.24382</td>\n",
       "      <td>1</td>\n",
       "      <td>2.92307</td>\n",
       "      <td>1.48452</td>\n",
       "      <td>1</td>\n",
       "      <td>1.13348</td>\n",
       "      <td>1.4712</td>\n",
       "      <td>1</td>\n",
       "      <td>8.12717</td>\n",
       "      <td>...</td>\n",
       "      <td>1</td>\n",
       "      <td>1.64286</td>\n",
       "      <td>1.43028</td>\n",
       "      <td>1</td>\n",
       "      <td>1.27411</td>\n",
       "      <td>7.5151</td>\n",
       "      <td>1</td>\n",
       "      <td>1.1791</td>\n",
       "      <td>2.67553</td>\n",
       "      <td>2.67442</td>\n",
       "    </tr>\n",
       "  </tbody>\n",
       "</table>\n",
       "<p>10 rows × 156 columns</p>\n",
       "</div>"
      ],
      "text/plain": [
       "  ellis-cpu.idle_perc ralf-load.avg_15_min bono-net.in_errors_sec  \\\n",
       "0             7.15566              6.02473                      1   \n",
       "1             7.72878              6.34276                      1   \n",
       "2             7.41038              6.50177                      1   \n",
       "3             7.17689              6.44876                      1   \n",
       "4              7.3467              6.50177                      1   \n",
       "5                7.75              6.66078                      1   \n",
       "6             7.55896              6.81979                      1   \n",
       "7             6.83726              6.92579                      1   \n",
       "8             6.75236              7.13781                      1   \n",
       "9             6.56132              7.24382                      1   \n",
       "\n",
       "  homer-net.out_bytes_sec ellis-io.write_req_sec homer-mem.total_mb  \\\n",
       "0                  2.9567                1.48758                  1   \n",
       "1                 2.94612                1.50086                  1   \n",
       "2                 2.96211                1.49064                  1   \n",
       "3                  2.9509                1.48351                  1   \n",
       "4                 2.95498                1.48351                  1   \n",
       "5                 2.95011                1.49982                  1   \n",
       "6                 2.94821                 1.4978                  1   \n",
       "7                 2.93452                1.45496                  1   \n",
       "8                 2.95551                1.46821                  1   \n",
       "9                 2.92307                1.48452                  1   \n",
       "\n",
       "  homestead-load.avg_1_min homer-load.avg_1_min sprout-cpu.stolen_perc  \\\n",
       "0                  1.49388              5.05236                      1   \n",
       "1                  1.36707              3.45026                      1   \n",
       "2                   1.3871              2.79058                      1   \n",
       "3                  1.27364              2.64921                      1   \n",
       "4                  1.23359              2.69634                      1   \n",
       "5                  1.14016              2.03665                      1   \n",
       "6                  1.08676              1.89529                      1   \n",
       "7                  1.16018              2.31937                      1   \n",
       "8                  1.09344              1.80105                      1   \n",
       "9                  1.13348               1.4712                      1   \n",
       "\n",
       "  ralf-cpu.idle_perc         ...          sprout-net.in_errors_sec  \\\n",
       "0            8.51734         ...                                 1   \n",
       "1            8.58237         ...                                 1   \n",
       "2            8.51734         ...                                 1   \n",
       "3            8.63439         ...                                 1   \n",
       "4            8.32226         ...                                 1   \n",
       "5            8.38728         ...                                 1   \n",
       "6            8.58237         ...                                 1   \n",
       "7            8.30925         ...                                 1   \n",
       "8            8.10116         ...                                 1   \n",
       "9            8.12717         ...                                 1   \n",
       "\n",
       "  ellis-disk.space_used_perc sprout-net.out_packets_sec  \\\n",
       "0                    1.64286                    1.44158   \n",
       "1                    1.64286                    1.42825   \n",
       "2                    1.64286                     1.4409   \n",
       "3                    1.64286                    1.42667   \n",
       "4                    1.64286                    1.44135   \n",
       "5                    1.64286                    1.43118   \n",
       "6                    1.64286                    1.43638   \n",
       "7                    1.64286                    1.42644   \n",
       "8                    1.64286                    1.44383   \n",
       "9                    1.64286                    1.43028   \n",
       "\n",
       "  sprout-net.in_packets_dropped_sec ralf-cpu.system_perc ralf-mem.free_mb  \\\n",
       "0                                 1              1.27411          7.51346   \n",
       "1                                 1              1.27411          7.50855   \n",
       "2                                 1               1.3198          7.51182   \n",
       "3                                 1              1.22843          7.50036   \n",
       "4                                 1              1.36548            7.502   \n",
       "5                                 1               1.3198          7.51346   \n",
       "6                                 1              1.27411          7.51346   \n",
       "7                                 1              1.22843           7.5151   \n",
       "8                                 1               1.3198           7.5151   \n",
       "9                                 1              1.27411           7.5151   \n",
       "\n",
       "  bono-io.read_req_sec bono-net.in_packets_sec homestead-cpu.wait_perc  \\\n",
       "0                    1                  1.1727                 4.20745   \n",
       "1                    1                 1.17308                 3.05851   \n",
       "2                    1                 1.17337                  2.7234   \n",
       "3                    1                 1.17027                  2.7234   \n",
       "4                    1                  1.1826                 2.67553   \n",
       "5                    1                 1.18172                 2.67553   \n",
       "6                    1                 1.17833                 3.10638   \n",
       "7                    1                  1.1792                 3.87234   \n",
       "8                    1                 1.18405                 2.96277   \n",
       "9                    1                  1.1791                 2.67553   \n",
       "\n",
       "  ellis-load.avg_1_min  \n",
       "0              7.03488  \n",
       "1              7.24419  \n",
       "2              6.30233  \n",
       "3              5.98837  \n",
       "4              6.02326  \n",
       "5              4.80233  \n",
       "6              4.27907  \n",
       "7              2.98837  \n",
       "8              3.75581  \n",
       "9              2.67442  \n",
       "\n",
       "[10 rows x 156 columns]"
      ]
     },
     "execution_count": 114,
     "metadata": {},
     "output_type": "execute_result"
    }
   ],
   "source": [
    "dframe.iloc[0:10,:-3]"
   ]
  },
  {
   "cell_type": "code",
   "execution_count": null,
   "metadata": {
    "collapsed": true
   },
   "outputs": [],
   "source": []
  }
 ],
 "metadata": {
  "kernelspec": {
   "display_name": "Python 3",
   "language": "python",
   "name": "python3"
  },
  "language_info": {
   "codemirror_mode": {
    "name": "ipython",
    "version": 3
   },
   "file_extension": ".py",
   "mimetype": "text/x-python",
   "name": "python",
   "nbconvert_exporter": "python",
   "pygments_lexer": "ipython3",
   "version": "3.6.7"
  }
 },
 "nbformat": 4,
 "nbformat_minor": 1
}
